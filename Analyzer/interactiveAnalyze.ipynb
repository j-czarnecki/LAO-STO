{
 "cells": [
  {
   "cell_type": "code",
   "execution_count": null,
   "id": "6c2473ee",
   "metadata": {},
   "outputs": [],
   "source": [
    "%load_ext autoreload\n",
    "%autoreload 2\n",
    "from DataReaderClass import *\n",
    "from DispersionPlotterClass import *\n",
    "from SymmetryResolverClass import *\n",
    "from GammaAndFillingPlotter import *\n",
    "\n",
    "SCRATCH_PATH = os.getenv(\"SCRATCH\")"
   ]
  },
  {
   "cell_type": "code",
   "execution_count": null,
   "id": "d80f2f3f",
   "metadata": {},
   "outputs": [],
   "source": [
    "%%capture\n",
    "eMin = -1053\n",
    "#eMin = -1480\n",
    "#eMin = 0\n",
    "gammaAndFillingPlotter = GammaAndFillingPlotter(\n",
    "    runsPath=os.path.join(SCRATCH_PATH, \"STO-SC\", \"LAO-STO-E_Fermi_U\"),\n",
    "    matchPattern=\"RUN_.*\",\n",
    "    nNeighbors=3,\n",
    "    nNextNeighbors=0,\n",
    "    eMinimal=eMin,\n",
    "    sublattices=2,\n",
    "    subbands=1,\n",
    "    material=\"STO\",\n",
    ")\n",
    "\n",
    "gammaAndFillingPlotter.LoadFilling(loadUnfinished=True)\n",
    "gammaAndFillingPlotter.LoadGamma(xKeywords=(\"e_fermi\", \"u_hub\"), loadUnfinished=True)\n",
    "gammaAndFillingPlotter.sortData()\n",
    "gammaAndFillingPlotter.CalculateSymmetryGamma()\n",
    "gammaAndFillingPlotter.getMaxvalSymmetrizedGamma()"
   ]
  },
  {
   "cell_type": "code",
   "execution_count": null,
   "id": "b46409b2",
   "metadata": {},
   "outputs": [],
   "source": [
    "%matplotlib widget\n",
    "gammaAndFillingPlotter.plotFillingFermi()"
   ]
  },
  {
   "cell_type": "code",
   "execution_count": null,
   "id": "2393f898",
   "metadata": {},
   "outputs": [],
   "source": []
  }
 ],
 "metadata": {
  "kernelspec": {
   "display_name": "Python 3",
   "language": "python",
   "name": "python3"
  },
  "language_info": {
   "codemirror_mode": {
    "name": "ipython",
    "version": 3
   },
   "file_extension": ".py",
   "mimetype": "text/x-python",
   "name": "python",
   "nbconvert_exporter": "python",
   "pygments_lexer": "ipython3",
   "version": "3.11.3"
  }
 },
 "nbformat": 4,
 "nbformat_minor": 5
}
