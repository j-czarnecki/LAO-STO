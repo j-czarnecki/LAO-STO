{
 "cells": [
  {
   "cell_type": "code",
   "execution_count": 22,
   "metadata": {},
   "outputs": [],
   "source": [
    "import numpy as np\n",
    "from sympy import *"
   ]
  },
  {
   "cell_type": "code",
   "execution_count": 23,
   "metadata": {},
   "outputs": [],
   "source": [
    "delta_1, delta_2, delta_3, delta_4 = symbols(r\"\\Delta_1, \\Delta_2, \\Delta_3, \\Delta_4\")\n",
    "eps_1, eps_2, eps_3 = symbols(r\"\\epsilon_1, \\epsilon_2, \\epsilon_3\")"
   ]
  },
  {
   "cell_type": "code",
   "execution_count": 31,
   "metadata": {},
   "outputs": [
    {
     "data": {
      "text/latex": [
       "$\\displaystyle \\left[\\begin{matrix}1.0 \\epsilon_{1} & 0 & 0 & 0\\\\0 & 1.0 \\epsilon_{1} & 0 & 0\\\\0 & 0 & 1.0 \\epsilon_{1} & 0\\\\0 & 0 & 0 & 1.0 \\epsilon_{1}\\end{matrix}\\right]$"
      ],
      "text/plain": [
       "Matrix([\n",
       "[1.0*\\epsilon_1,              0,              0,              0],\n",
       "[             0, 1.0*\\epsilon_1,              0,              0],\n",
       "[             0,              0, 1.0*\\epsilon_1,              0],\n",
       "[             0,              0,              0, 1.0*\\epsilon_1]])"
      ]
     },
     "metadata": {},
     "output_type": "display_data"
    },
    {
     "data": {
      "text/latex": [
       "$\\displaystyle \\left[\\begin{matrix}\\Delta_{1} & 0 & 0 & 0\\\\0 & \\Delta_{2} & 0 & 0\\\\0 & 0 & \\Delta_{3} & 0\\\\0 & 0 & 0 & \\Delta_{4}\\end{matrix}\\right]$"
      ],
      "text/plain": [
       "Matrix([\n",
       "[\\Delta_1,        0,        0,        0],\n",
       "[       0, \\Delta_2,        0,        0],\n",
       "[       0,        0, \\Delta_3,        0],\n",
       "[       0,        0,        0, \\Delta_4]])"
      ]
     },
     "metadata": {},
     "output_type": "display_data"
    },
    {
     "data": {
      "text/latex": [
       "$\\displaystyle \\left[\\begin{matrix}1.0 \\epsilon_{1} & 0 & 0 & 0 & \\Delta_{1} & 0 & 0 & 0\\\\0 & 1.0 \\epsilon_{1} & 0 & 0 & 0 & \\Delta_{2} & 0 & 0\\\\0 & 0 & 1.0 \\epsilon_{1} & 0 & 0 & 0 & \\Delta_{3} & 0\\\\0 & 0 & 0 & 1.0 \\epsilon_{1} & 0 & 0 & 0 & \\Delta_{4}\\\\\\overline{\\Delta_{1}} & 0 & 0 & 0 & - 1.0 \\epsilon_{1} & 0 & 0 & 0\\\\0 & \\overline{\\Delta_{2}} & 0 & 0 & 0 & - 1.0 \\epsilon_{1} & 0 & 0\\\\0 & 0 & \\overline{\\Delta_{3}} & 0 & 0 & 0 & - 1.0 \\epsilon_{1} & 0\\\\0 & 0 & 0 & \\overline{\\Delta_{4}} & 0 & 0 & 0 & - 1.0 \\epsilon_{1}\\end{matrix}\\right]$"
      ],
      "text/plain": [
       "Matrix([\n",
       "[     1.0*\\epsilon_1,                   0,                   0,                   0,        \\Delta_1,               0,               0,               0],\n",
       "[                  0,      1.0*\\epsilon_1,                   0,                   0,               0,        \\Delta_2,               0,               0],\n",
       "[                  0,                   0,      1.0*\\epsilon_1,                   0,               0,               0,        \\Delta_3,               0],\n",
       "[                  0,                   0,                   0,      1.0*\\epsilon_1,               0,               0,               0,        \\Delta_4],\n",
       "[conjugate(\\Delta_1),                   0,                   0,                   0, -1.0*\\epsilon_1,               0,               0,               0],\n",
       "[                  0, conjugate(\\Delta_2),                   0,                   0,               0, -1.0*\\epsilon_1,               0,               0],\n",
       "[                  0,                   0, conjugate(\\Delta_3),                   0,               0,               0, -1.0*\\epsilon_1,               0],\n",
       "[                  0,                   0,                   0, conjugate(\\Delta_4),               0,               0,               0, -1.0*\\epsilon_1]])"
      ]
     },
     "execution_count": 31,
     "metadata": {},
     "output_type": "execute_result"
    }
   ],
   "source": [
    "dim = 4\n",
    "\n",
    "H_eps = Matrix(np.eye(dim)) * eps_1\n",
    "display(H_eps)\n",
    "H_delta = Matrix(np.zeros((dim, dim)))\n",
    "H_delta[0, 0] = delta_1\n",
    "H_delta[1, 1] = delta_2\n",
    "H_delta[2, 2] = delta_3\n",
    "H_delta[3, 3] = delta_4\n",
    "display(H_delta)\n",
    "H = Matrix([[H_eps, H_delta], [adjoint(H_delta), -H_eps]])\n",
    "display(H)"
   ]
  },
  {
   "cell_type": "code",
   "execution_count": 38,
   "metadata": {},
   "outputs": [
    {
     "data": {
      "text/latex": [
       "$\\displaystyle \\left[\\begin{matrix}0 & 0 & 0 & 0 & \\Delta_{1} & 0 & 0 & 0\\\\0 & 0 & 0 & 0 & 0 & \\Delta_{2} & 0 & 0\\\\0 & 0 & 0 & 0 & 0 & 0 & \\Delta_{3} & 0\\\\0 & 0 & 0 & 0 & 0 & 0 & 0 & \\Delta_{4}\\\\\\overline{\\Delta_{1}} & 0 & 0 & 0 & 0 & 0 & 0 & 0\\\\0 & \\overline{\\Delta_{2}} & 0 & 0 & 0 & 0 & 0 & 0\\\\0 & 0 & \\overline{\\Delta_{3}} & 0 & 0 & 0 & 0 & 0\\\\0 & 0 & 0 & \\overline{\\Delta_{4}} & 0 & 0 & 0 & 0\\end{matrix}\\right]$"
      ],
      "text/plain": [
       "Matrix([\n",
       "[                  0,                   0,                   0,                   0, \\Delta_1,        0,        0,        0],\n",
       "[                  0,                   0,                   0,                   0,        0, \\Delta_2,        0,        0],\n",
       "[                  0,                   0,                   0,                   0,        0,        0, \\Delta_3,        0],\n",
       "[                  0,                   0,                   0,                   0,        0,        0,        0, \\Delta_4],\n",
       "[conjugate(\\Delta_1),                   0,                   0,                   0,        0,        0,        0,        0],\n",
       "[                  0, conjugate(\\Delta_2),                   0,                   0,        0,        0,        0,        0],\n",
       "[                  0,                   0, conjugate(\\Delta_3),                   0,        0,        0,        0,        0],\n",
       "[                  0,                   0,                   0, conjugate(\\Delta_4),        0,        0,        0,        0]])"
      ]
     },
     "metadata": {},
     "output_type": "display_data"
    },
    {
     "data": {
      "text/latex": [
       "$\\displaystyle \\left[\\begin{matrix}- \\frac{\\Delta_{1}}{\\sqrt{\\Delta_{1} \\overline{\\Delta_{1}}}} & \\frac{\\Delta_{1}}{\\sqrt{\\Delta_{1} \\overline{\\Delta_{1}}}} & 0 & 0 & 0 & 0 & 0 & 0\\\\0 & 0 & - \\frac{\\Delta_{2}}{\\sqrt{\\Delta_{2} \\overline{\\Delta_{2}}}} & \\frac{\\Delta_{2}}{\\sqrt{\\Delta_{2} \\overline{\\Delta_{2}}}} & 0 & 0 & 0 & 0\\\\0 & 0 & 0 & 0 & - \\frac{\\Delta_{3}}{\\sqrt{\\Delta_{3} \\overline{\\Delta_{3}}}} & \\frac{\\Delta_{3}}{\\sqrt{\\Delta_{3} \\overline{\\Delta_{3}}}} & 0 & 0\\\\0 & 0 & 0 & 0 & 0 & 0 & - \\frac{\\Delta_{4}}{\\sqrt{\\Delta_{4} \\overline{\\Delta_{4}}}} & \\frac{\\Delta_{4}}{\\sqrt{\\Delta_{4} \\overline{\\Delta_{4}}}}\\\\1 & 1 & 0 & 0 & 0 & 0 & 0 & 0\\\\0 & 0 & 1 & 1 & 0 & 0 & 0 & 0\\\\0 & 0 & 0 & 0 & 1 & 1 & 0 & 0\\\\0 & 0 & 0 & 0 & 0 & 0 & 1 & 1\\end{matrix}\\right]$"
      ],
      "text/plain": [
       "Matrix([\n",
       "[-\\Delta_1/sqrt(\\Delta_1*conjugate(\\Delta_1)), \\Delta_1/sqrt(\\Delta_1*conjugate(\\Delta_1)),                                            0,                                           0,                                            0,                                           0,                                            0,                                           0],\n",
       "[                                           0,                                           0, -\\Delta_2/sqrt(\\Delta_2*conjugate(\\Delta_2)), \\Delta_2/sqrt(\\Delta_2*conjugate(\\Delta_2)),                                            0,                                           0,                                            0,                                           0],\n",
       "[                                           0,                                           0,                                            0,                                           0, -\\Delta_3/sqrt(\\Delta_3*conjugate(\\Delta_3)), \\Delta_3/sqrt(\\Delta_3*conjugate(\\Delta_3)),                                            0,                                           0],\n",
       "[                                           0,                                           0,                                            0,                                           0,                                            0,                                           0, -\\Delta_4/sqrt(\\Delta_4*conjugate(\\Delta_4)), \\Delta_4/sqrt(\\Delta_4*conjugate(\\Delta_4))],\n",
       "[                                           1,                                           1,                                            0,                                           0,                                            0,                                           0,                                            0,                                           0],\n",
       "[                                           0,                                           0,                                            1,                                           1,                                            0,                                           0,                                            0,                                           0],\n",
       "[                                           0,                                           0,                                            0,                                           0,                                            1,                                           1,                                            0,                                           0],\n",
       "[                                           0,                                           0,                                            0,                                           0,                                            0,                                           0,                                            1,                                           1]])"
      ]
     },
     "metadata": {},
     "output_type": "display_data"
    },
    {
     "data": {
      "text/latex": [
       "$\\displaystyle \\left[\\begin{matrix}- \\sqrt{\\Delta_{1} \\overline{\\Delta_{1}}} & 0 & 0 & 0 & 0 & 0 & 0 & 0\\\\0 & \\sqrt{\\Delta_{1} \\overline{\\Delta_{1}}} & 0 & 0 & 0 & 0 & 0 & 0\\\\0 & 0 & - \\sqrt{\\Delta_{2} \\overline{\\Delta_{2}}} & 0 & 0 & 0 & 0 & 0\\\\0 & 0 & 0 & \\sqrt{\\Delta_{2} \\overline{\\Delta_{2}}} & 0 & 0 & 0 & 0\\\\0 & 0 & 0 & 0 & - \\sqrt{\\Delta_{3} \\overline{\\Delta_{3}}} & 0 & 0 & 0\\\\0 & 0 & 0 & 0 & 0 & \\sqrt{\\Delta_{3} \\overline{\\Delta_{3}}} & 0 & 0\\\\0 & 0 & 0 & 0 & 0 & 0 & - \\sqrt{\\Delta_{4} \\overline{\\Delta_{4}}} & 0\\\\0 & 0 & 0 & 0 & 0 & 0 & 0 & \\sqrt{\\Delta_{4} \\overline{\\Delta_{4}}}\\end{matrix}\\right]$"
      ],
      "text/plain": [
       "Matrix([\n",
       "[-sqrt(\\Delta_1*conjugate(\\Delta_1)),                                  0,                                   0,                                  0,                                   0,                                  0,                                   0,                                  0],\n",
       "[                                  0, sqrt(\\Delta_1*conjugate(\\Delta_1)),                                   0,                                  0,                                   0,                                  0,                                   0,                                  0],\n",
       "[                                  0,                                  0, -sqrt(\\Delta_2*conjugate(\\Delta_2)),                                  0,                                   0,                                  0,                                   0,                                  0],\n",
       "[                                  0,                                  0,                                   0, sqrt(\\Delta_2*conjugate(\\Delta_2)),                                   0,                                  0,                                   0,                                  0],\n",
       "[                                  0,                                  0,                                   0,                                  0, -sqrt(\\Delta_3*conjugate(\\Delta_3)),                                  0,                                   0,                                  0],\n",
       "[                                  0,                                  0,                                   0,                                  0,                                   0, sqrt(\\Delta_3*conjugate(\\Delta_3)),                                   0,                                  0],\n",
       "[                                  0,                                  0,                                   0,                                  0,                                   0,                                  0, -sqrt(\\Delta_4*conjugate(\\Delta_4)),                                  0],\n",
       "[                                  0,                                  0,                                   0,                                  0,                                   0,                                  0,                                   0, sqrt(\\Delta_4*conjugate(\\Delta_4))]])"
      ]
     },
     "metadata": {},
     "output_type": "display_data"
    }
   ],
   "source": [
    "zero_matrix = Matrix(np.zeros((dim, dim)))\n",
    "H_delta_full = Matrix([[zero_matrix, H_delta], [adjoint(H_delta), zero_matrix]])\n",
    "display(H_delta_full)\n",
    "U, H_delta_diag = H_delta_full.diagonalize()\n",
    "display(U)\n",
    "display(H_delta_diag)"
   ]
  },
  {
   "cell_type": "code",
   "execution_count": 40,
   "metadata": {},
   "outputs": [
    {
     "data": {
      "text/latex": [
       "$\\displaystyle \\left[\\begin{matrix}- \\Delta_{1} \\overline{\\Delta_{1}} \\overline{\\frac{1}{\\sqrt{\\Delta_{1} \\overline{\\Delta_{1}}}}} - \\frac{\\Delta_{1} \\left(- 1.0 \\epsilon_{1} \\overline{\\Delta_{1}} \\overline{\\frac{1}{\\sqrt{\\Delta_{1} \\overline{\\Delta_{1}}}}} + \\overline{\\Delta_{1}}\\right)}{\\sqrt{\\Delta_{1} \\overline{\\Delta_{1}}}} - 1.0 \\epsilon_{1} & - \\Delta_{1} \\overline{\\Delta_{1}} \\overline{\\frac{1}{\\sqrt{\\Delta_{1} \\overline{\\Delta_{1}}}}} + \\frac{\\Delta_{1} \\left(- 1.0 \\epsilon_{1} \\overline{\\Delta_{1}} \\overline{\\frac{1}{\\sqrt{\\Delta_{1} \\overline{\\Delta_{1}}}}} + \\overline{\\Delta_{1}}\\right)}{\\sqrt{\\Delta_{1} \\overline{\\Delta_{1}}}} - 1.0 \\epsilon_{1} & 0 & 0 & 0 & 0 & 0 & 0\\\\\\Delta_{1} \\overline{\\Delta_{1}} \\overline{\\frac{1}{\\sqrt{\\Delta_{1} \\overline{\\Delta_{1}}}}} - \\frac{\\Delta_{1} \\cdot \\left(1.0 \\epsilon_{1} \\overline{\\Delta_{1}} \\overline{\\frac{1}{\\sqrt{\\Delta_{1} \\overline{\\Delta_{1}}}}} + \\overline{\\Delta_{1}}\\right)}{\\sqrt{\\Delta_{1} \\overline{\\Delta_{1}}}} - 1.0 \\epsilon_{1} & \\Delta_{1} \\overline{\\Delta_{1}} \\overline{\\frac{1}{\\sqrt{\\Delta_{1} \\overline{\\Delta_{1}}}}} + \\frac{\\Delta_{1} \\cdot \\left(1.0 \\epsilon_{1} \\overline{\\Delta_{1}} \\overline{\\frac{1}{\\sqrt{\\Delta_{1} \\overline{\\Delta_{1}}}}} + \\overline{\\Delta_{1}}\\right)}{\\sqrt{\\Delta_{1} \\overline{\\Delta_{1}}}} - 1.0 \\epsilon_{1} & 0 & 0 & 0 & 0 & 0 & 0\\\\0 & 0 & - \\Delta_{2} \\overline{\\Delta_{2}} \\overline{\\frac{1}{\\sqrt{\\Delta_{2} \\overline{\\Delta_{2}}}}} - \\frac{\\Delta_{2} \\left(- 1.0 \\epsilon_{1} \\overline{\\Delta_{2}} \\overline{\\frac{1}{\\sqrt{\\Delta_{2} \\overline{\\Delta_{2}}}}} + \\overline{\\Delta_{2}}\\right)}{\\sqrt{\\Delta_{2} \\overline{\\Delta_{2}}}} - 1.0 \\epsilon_{1} & - \\Delta_{2} \\overline{\\Delta_{2}} \\overline{\\frac{1}{\\sqrt{\\Delta_{2} \\overline{\\Delta_{2}}}}} + \\frac{\\Delta_{2} \\left(- 1.0 \\epsilon_{1} \\overline{\\Delta_{2}} \\overline{\\frac{1}{\\sqrt{\\Delta_{2} \\overline{\\Delta_{2}}}}} + \\overline{\\Delta_{2}}\\right)}{\\sqrt{\\Delta_{2} \\overline{\\Delta_{2}}}} - 1.0 \\epsilon_{1} & 0 & 0 & 0 & 0\\\\0 & 0 & \\Delta_{2} \\overline{\\Delta_{2}} \\overline{\\frac{1}{\\sqrt{\\Delta_{2} \\overline{\\Delta_{2}}}}} - \\frac{\\Delta_{2} \\cdot \\left(1.0 \\epsilon_{1} \\overline{\\Delta_{2}} \\overline{\\frac{1}{\\sqrt{\\Delta_{2} \\overline{\\Delta_{2}}}}} + \\overline{\\Delta_{2}}\\right)}{\\sqrt{\\Delta_{2} \\overline{\\Delta_{2}}}} - 1.0 \\epsilon_{1} & \\Delta_{2} \\overline{\\Delta_{2}} \\overline{\\frac{1}{\\sqrt{\\Delta_{2} \\overline{\\Delta_{2}}}}} + \\frac{\\Delta_{2} \\cdot \\left(1.0 \\epsilon_{1} \\overline{\\Delta_{2}} \\overline{\\frac{1}{\\sqrt{\\Delta_{2} \\overline{\\Delta_{2}}}}} + \\overline{\\Delta_{2}}\\right)}{\\sqrt{\\Delta_{2} \\overline{\\Delta_{2}}}} - 1.0 \\epsilon_{1} & 0 & 0 & 0 & 0\\\\0 & 0 & 0 & 0 & - \\Delta_{3} \\overline{\\Delta_{3}} \\overline{\\frac{1}{\\sqrt{\\Delta_{3} \\overline{\\Delta_{3}}}}} - \\frac{\\Delta_{3} \\left(- 1.0 \\epsilon_{1} \\overline{\\Delta_{3}} \\overline{\\frac{1}{\\sqrt{\\Delta_{3} \\overline{\\Delta_{3}}}}} + \\overline{\\Delta_{3}}\\right)}{\\sqrt{\\Delta_{3} \\overline{\\Delta_{3}}}} - 1.0 \\epsilon_{1} & - \\Delta_{3} \\overline{\\Delta_{3}} \\overline{\\frac{1}{\\sqrt{\\Delta_{3} \\overline{\\Delta_{3}}}}} + \\frac{\\Delta_{3} \\left(- 1.0 \\epsilon_{1} \\overline{\\Delta_{3}} \\overline{\\frac{1}{\\sqrt{\\Delta_{3} \\overline{\\Delta_{3}}}}} + \\overline{\\Delta_{3}}\\right)}{\\sqrt{\\Delta_{3} \\overline{\\Delta_{3}}}} - 1.0 \\epsilon_{1} & 0 & 0\\\\0 & 0 & 0 & 0 & \\Delta_{3} \\overline{\\Delta_{3}} \\overline{\\frac{1}{\\sqrt{\\Delta_{3} \\overline{\\Delta_{3}}}}} - \\frac{\\Delta_{3} \\cdot \\left(1.0 \\epsilon_{1} \\overline{\\Delta_{3}} \\overline{\\frac{1}{\\sqrt{\\Delta_{3} \\overline{\\Delta_{3}}}}} + \\overline{\\Delta_{3}}\\right)}{\\sqrt{\\Delta_{3} \\overline{\\Delta_{3}}}} - 1.0 \\epsilon_{1} & \\Delta_{3} \\overline{\\Delta_{3}} \\overline{\\frac{1}{\\sqrt{\\Delta_{3} \\overline{\\Delta_{3}}}}} + \\frac{\\Delta_{3} \\cdot \\left(1.0 \\epsilon_{1} \\overline{\\Delta_{3}} \\overline{\\frac{1}{\\sqrt{\\Delta_{3} \\overline{\\Delta_{3}}}}} + \\overline{\\Delta_{3}}\\right)}{\\sqrt{\\Delta_{3} \\overline{\\Delta_{3}}}} - 1.0 \\epsilon_{1} & 0 & 0\\\\0 & 0 & 0 & 0 & 0 & 0 & - \\Delta_{4} \\overline{\\Delta_{4}} \\overline{\\frac{1}{\\sqrt{\\Delta_{4} \\overline{\\Delta_{4}}}}} - \\frac{\\Delta_{4} \\left(- 1.0 \\epsilon_{1} \\overline{\\Delta_{4}} \\overline{\\frac{1}{\\sqrt{\\Delta_{4} \\overline{\\Delta_{4}}}}} + \\overline{\\Delta_{4}}\\right)}{\\sqrt{\\Delta_{4} \\overline{\\Delta_{4}}}} - 1.0 \\epsilon_{1} & - \\Delta_{4} \\overline{\\Delta_{4}} \\overline{\\frac{1}{\\sqrt{\\Delta_{4} \\overline{\\Delta_{4}}}}} + \\frac{\\Delta_{4} \\left(- 1.0 \\epsilon_{1} \\overline{\\Delta_{4}} \\overline{\\frac{1}{\\sqrt{\\Delta_{4} \\overline{\\Delta_{4}}}}} + \\overline{\\Delta_{4}}\\right)}{\\sqrt{\\Delta_{4} \\overline{\\Delta_{4}}}} - 1.0 \\epsilon_{1}\\\\0 & 0 & 0 & 0 & 0 & 0 & \\Delta_{4} \\overline{\\Delta_{4}} \\overline{\\frac{1}{\\sqrt{\\Delta_{4} \\overline{\\Delta_{4}}}}} - \\frac{\\Delta_{4} \\cdot \\left(1.0 \\epsilon_{1} \\overline{\\Delta_{4}} \\overline{\\frac{1}{\\sqrt{\\Delta_{4} \\overline{\\Delta_{4}}}}} + \\overline{\\Delta_{4}}\\right)}{\\sqrt{\\Delta_{4} \\overline{\\Delta_{4}}}} - 1.0 \\epsilon_{1} & \\Delta_{4} \\overline{\\Delta_{4}} \\overline{\\frac{1}{\\sqrt{\\Delta_{4} \\overline{\\Delta_{4}}}}} + \\frac{\\Delta_{4} \\cdot \\left(1.0 \\epsilon_{1} \\overline{\\Delta_{4}} \\overline{\\frac{1}{\\sqrt{\\Delta_{4} \\overline{\\Delta_{4}}}}} + \\overline{\\Delta_{4}}\\right)}{\\sqrt{\\Delta_{4} \\overline{\\Delta_{4}}}} - 1.0 \\epsilon_{1}\\end{matrix}\\right]$"
      ],
      "text/plain": [
       "Matrix([\n",
       "[-\\Delta_1*conjugate(\\Delta_1)*conjugate(1/sqrt(\\Delta_1*conjugate(\\Delta_1))) - \\Delta_1*(-1.0*\\epsilon_1*conjugate(\\Delta_1)*conjugate(1/sqrt(\\Delta_1*conjugate(\\Delta_1))) + conjugate(\\Delta_1))/sqrt(\\Delta_1*conjugate(\\Delta_1)) - 1.0*\\epsilon_1, -\\Delta_1*conjugate(\\Delta_1)*conjugate(1/sqrt(\\Delta_1*conjugate(\\Delta_1))) + \\Delta_1*(-1.0*\\epsilon_1*conjugate(\\Delta_1)*conjugate(1/sqrt(\\Delta_1*conjugate(\\Delta_1))) + conjugate(\\Delta_1))/sqrt(\\Delta_1*conjugate(\\Delta_1)) - 1.0*\\epsilon_1,                                                                                                                                                                                                                                                        0,                                                                                                                                                                                                                                                        0,                                                                                                                                                                                                                                                        0,                                                                                                                                                                                                                                                        0,                                                                                                                                                                                                                                                        0,                                                                                                                                                                                                                                                        0],\n",
       "[  \\Delta_1*conjugate(\\Delta_1)*conjugate(1/sqrt(\\Delta_1*conjugate(\\Delta_1))) - \\Delta_1*(1.0*\\epsilon_1*conjugate(\\Delta_1)*conjugate(1/sqrt(\\Delta_1*conjugate(\\Delta_1))) + conjugate(\\Delta_1))/sqrt(\\Delta_1*conjugate(\\Delta_1)) - 1.0*\\epsilon_1,   \\Delta_1*conjugate(\\Delta_1)*conjugate(1/sqrt(\\Delta_1*conjugate(\\Delta_1))) + \\Delta_1*(1.0*\\epsilon_1*conjugate(\\Delta_1)*conjugate(1/sqrt(\\Delta_1*conjugate(\\Delta_1))) + conjugate(\\Delta_1))/sqrt(\\Delta_1*conjugate(\\Delta_1)) - 1.0*\\epsilon_1,                                                                                                                                                                                                                                                        0,                                                                                                                                                                                                                                                        0,                                                                                                                                                                                                                                                        0,                                                                                                                                                                                                                                                        0,                                                                                                                                                                                                                                                        0,                                                                                                                                                                                                                                                        0],\n",
       "[                                                                                                                                                                                                                                                       0,                                                                                                                                                                                                                                                        0, -\\Delta_2*conjugate(\\Delta_2)*conjugate(1/sqrt(\\Delta_2*conjugate(\\Delta_2))) - \\Delta_2*(-1.0*\\epsilon_1*conjugate(\\Delta_2)*conjugate(1/sqrt(\\Delta_2*conjugate(\\Delta_2))) + conjugate(\\Delta_2))/sqrt(\\Delta_2*conjugate(\\Delta_2)) - 1.0*\\epsilon_1, -\\Delta_2*conjugate(\\Delta_2)*conjugate(1/sqrt(\\Delta_2*conjugate(\\Delta_2))) + \\Delta_2*(-1.0*\\epsilon_1*conjugate(\\Delta_2)*conjugate(1/sqrt(\\Delta_2*conjugate(\\Delta_2))) + conjugate(\\Delta_2))/sqrt(\\Delta_2*conjugate(\\Delta_2)) - 1.0*\\epsilon_1,                                                                                                                                                                                                                                                        0,                                                                                                                                                                                                                                                        0,                                                                                                                                                                                                                                                        0,                                                                                                                                                                                                                                                        0],\n",
       "[                                                                                                                                                                                                                                                       0,                                                                                                                                                                                                                                                        0,   \\Delta_2*conjugate(\\Delta_2)*conjugate(1/sqrt(\\Delta_2*conjugate(\\Delta_2))) - \\Delta_2*(1.0*\\epsilon_1*conjugate(\\Delta_2)*conjugate(1/sqrt(\\Delta_2*conjugate(\\Delta_2))) + conjugate(\\Delta_2))/sqrt(\\Delta_2*conjugate(\\Delta_2)) - 1.0*\\epsilon_1,   \\Delta_2*conjugate(\\Delta_2)*conjugate(1/sqrt(\\Delta_2*conjugate(\\Delta_2))) + \\Delta_2*(1.0*\\epsilon_1*conjugate(\\Delta_2)*conjugate(1/sqrt(\\Delta_2*conjugate(\\Delta_2))) + conjugate(\\Delta_2))/sqrt(\\Delta_2*conjugate(\\Delta_2)) - 1.0*\\epsilon_1,                                                                                                                                                                                                                                                        0,                                                                                                                                                                                                                                                        0,                                                                                                                                                                                                                                                        0,                                                                                                                                                                                                                                                        0],\n",
       "[                                                                                                                                                                                                                                                       0,                                                                                                                                                                                                                                                        0,                                                                                                                                                                                                                                                        0,                                                                                                                                                                                                                                                        0, -\\Delta_3*conjugate(\\Delta_3)*conjugate(1/sqrt(\\Delta_3*conjugate(\\Delta_3))) - \\Delta_3*(-1.0*\\epsilon_1*conjugate(\\Delta_3)*conjugate(1/sqrt(\\Delta_3*conjugate(\\Delta_3))) + conjugate(\\Delta_3))/sqrt(\\Delta_3*conjugate(\\Delta_3)) - 1.0*\\epsilon_1, -\\Delta_3*conjugate(\\Delta_3)*conjugate(1/sqrt(\\Delta_3*conjugate(\\Delta_3))) + \\Delta_3*(-1.0*\\epsilon_1*conjugate(\\Delta_3)*conjugate(1/sqrt(\\Delta_3*conjugate(\\Delta_3))) + conjugate(\\Delta_3))/sqrt(\\Delta_3*conjugate(\\Delta_3)) - 1.0*\\epsilon_1,                                                                                                                                                                                                                                                        0,                                                                                                                                                                                                                                                        0],\n",
       "[                                                                                                                                                                                                                                                       0,                                                                                                                                                                                                                                                        0,                                                                                                                                                                                                                                                        0,                                                                                                                                                                                                                                                        0,   \\Delta_3*conjugate(\\Delta_3)*conjugate(1/sqrt(\\Delta_3*conjugate(\\Delta_3))) - \\Delta_3*(1.0*\\epsilon_1*conjugate(\\Delta_3)*conjugate(1/sqrt(\\Delta_3*conjugate(\\Delta_3))) + conjugate(\\Delta_3))/sqrt(\\Delta_3*conjugate(\\Delta_3)) - 1.0*\\epsilon_1,   \\Delta_3*conjugate(\\Delta_3)*conjugate(1/sqrt(\\Delta_3*conjugate(\\Delta_3))) + \\Delta_3*(1.0*\\epsilon_1*conjugate(\\Delta_3)*conjugate(1/sqrt(\\Delta_3*conjugate(\\Delta_3))) + conjugate(\\Delta_3))/sqrt(\\Delta_3*conjugate(\\Delta_3)) - 1.0*\\epsilon_1,                                                                                                                                                                                                                                                        0,                                                                                                                                                                                                                                                        0],\n",
       "[                                                                                                                                                                                                                                                       0,                                                                                                                                                                                                                                                        0,                                                                                                                                                                                                                                                        0,                                                                                                                                                                                                                                                        0,                                                                                                                                                                                                                                                        0,                                                                                                                                                                                                                                                        0, -\\Delta_4*conjugate(\\Delta_4)*conjugate(1/sqrt(\\Delta_4*conjugate(\\Delta_4))) - \\Delta_4*(-1.0*\\epsilon_1*conjugate(\\Delta_4)*conjugate(1/sqrt(\\Delta_4*conjugate(\\Delta_4))) + conjugate(\\Delta_4))/sqrt(\\Delta_4*conjugate(\\Delta_4)) - 1.0*\\epsilon_1, -\\Delta_4*conjugate(\\Delta_4)*conjugate(1/sqrt(\\Delta_4*conjugate(\\Delta_4))) + \\Delta_4*(-1.0*\\epsilon_1*conjugate(\\Delta_4)*conjugate(1/sqrt(\\Delta_4*conjugate(\\Delta_4))) + conjugate(\\Delta_4))/sqrt(\\Delta_4*conjugate(\\Delta_4)) - 1.0*\\epsilon_1],\n",
       "[                                                                                                                                                                                                                                                       0,                                                                                                                                                                                                                                                        0,                                                                                                                                                                                                                                                        0,                                                                                                                                                                                                                                                        0,                                                                                                                                                                                                                                                        0,                                                                                                                                                                                                                                                        0,   \\Delta_4*conjugate(\\Delta_4)*conjugate(1/sqrt(\\Delta_4*conjugate(\\Delta_4))) - \\Delta_4*(1.0*\\epsilon_1*conjugate(\\Delta_4)*conjugate(1/sqrt(\\Delta_4*conjugate(\\Delta_4))) + conjugate(\\Delta_4))/sqrt(\\Delta_4*conjugate(\\Delta_4)) - 1.0*\\epsilon_1,   \\Delta_4*conjugate(\\Delta_4)*conjugate(1/sqrt(\\Delta_4*conjugate(\\Delta_4))) + \\Delta_4*(1.0*\\epsilon_1*conjugate(\\Delta_4)*conjugate(1/sqrt(\\Delta_4*conjugate(\\Delta_4))) + conjugate(\\Delta_4))/sqrt(\\Delta_4*conjugate(\\Delta_4)) - 1.0*\\epsilon_1]])"
      ]
     },
     "metadata": {},
     "output_type": "display_data"
    }
   ],
   "source": [
    "H_transformed = adjoint(U) * H * U\n",
    "display(H_transformed)"
   ]
  },
  {
   "cell_type": "code",
   "execution_count": null,
   "metadata": {},
   "outputs": [],
   "source": []
  }
 ],
 "metadata": {
  "kernelspec": {
   "display_name": "Python 3",
   "language": "python",
   "name": "python3"
  },
  "language_info": {
   "codemirror_mode": {
    "name": "ipython",
    "version": 3
   },
   "file_extension": ".py",
   "mimetype": "text/x-python",
   "name": "python",
   "nbconvert_exporter": "python",
   "pygments_lexer": "ipython3",
   "version": "3.10.12"
  }
 },
 "nbformat": 4,
 "nbformat_minor": 2
}
