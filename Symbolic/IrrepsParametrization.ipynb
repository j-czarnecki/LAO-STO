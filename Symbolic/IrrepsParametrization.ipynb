{
 "cells": [
  {
   "cell_type": "markdown",
   "id": "fd3a8cf8",
   "metadata": {},
   "source": [
    "This file is part of LAO-STO.\n",
    "\n",
    "Copyright (C) 2025 Julian Czarnecki\n",
    "\n",
    "This program is free software: you can redistribute it and/or modify\n",
    "it under the terms of the GNU General Public License as published by\n",
    "the Free Software Foundation, either version 3 of the License, or\n",
    "(at your option) any later version.\n",
    "\n",
    "This program is distributed in the hope that it will be useful,\n",
    "but WITHOUT ANY WARRANTY; without even the implied warranty of\n",
    "MERCHANTABILITY or FITNESS FOR A PARTICULAR PURPOSE.  See the\n",
    "GNU General Public License for more details.\n",
    "\n",
    "You should have received a copy of the GNU General Public License\n",
    "along with this program.  If not, see <https://www.gnu.org/licenses/>.\n",
    "\n",
    "If you use this code for scientific research, please cite:\n",
    "J. Czarnecki et. al.,\n",
    "\"Superconducting gap symmetry of 2DEG at (111)-oriented LaAlO3/SrTiO3 interface\",\n",
    "arXiv:2508.05075 (2025).\n",
    "https://arxiv.org/abs/2508.05075"
   ]
  },
  {
   "cell_type": "code",
   "execution_count": 1,
   "id": "9c9aacc4",
   "metadata": {},
   "outputs": [],
   "source": [
    "import numpy as np\n",
    "import sympy as sp\n",
    "from sympy.physics.quantum import TensorProduct\n",
    "from sympy.vector import CoordSys3D"
   ]
  },
  {
   "cell_type": "code",
   "execution_count": 2,
   "id": "7ee4dd4b",
   "metadata": {},
   "outputs": [],
   "source": [
    "x,y,z,g_s, g_d1, g_d2 = sp.symbols('x y z g_s g_d1 d_d2')\n",
    "\n",
    "#Define system of equations in a form f(X) = 0\n",
    "equations = [x + y + z - g_s,\n",
    "             x - y - g_d1,\n",
    "             x - z - g_d2]"
   ]
  },
  {
   "cell_type": "code",
   "execution_count": 3,
   "id": "9ddef8d8",
   "metadata": {},
   "outputs": [
    {
     "data": {
      "text/plain": [
       "(1, 0, 0)"
      ]
     },
     "metadata": {},
     "output_type": "display_data"
    },
    {
     "data": {
      "text/plain": [
       "{x: 1/3, y: 1/3, z: 1/3}"
      ]
     },
     "metadata": {},
     "output_type": "display_data"
    },
    {
     "name": "stdout",
     "output_type": "stream",
     "text": [
      "\n",
      "\n"
     ]
    },
    {
     "data": {
      "text/plain": [
       "(0, 1, 0)"
      ]
     },
     "metadata": {},
     "output_type": "display_data"
    },
    {
     "data": {
      "text/plain": [
       "{x: 1/3, y: -2/3, z: 1/3}"
      ]
     },
     "metadata": {},
     "output_type": "display_data"
    },
    {
     "name": "stdout",
     "output_type": "stream",
     "text": [
      "\n",
      "\n"
     ]
    },
    {
     "data": {
      "text/plain": [
       "(0, 0, 1)"
      ]
     },
     "metadata": {},
     "output_type": "display_data"
    },
    {
     "data": {
      "text/plain": [
       "{x: 1/3, y: 1/3, z: -2/3}"
      ]
     },
     "metadata": {},
     "output_type": "display_data"
    },
    {
     "name": "stdout",
     "output_type": "stream",
     "text": [
      "\n",
      "\n"
     ]
    },
    {
     "data": {
      "text/plain": [
       "(0, 0.5, 0.5)"
      ]
     },
     "metadata": {},
     "output_type": "display_data"
    },
    {
     "data": {
      "text/plain": [
       "{x: 0.333333333333333, y: -0.166666666666667, z: -0.166666666666667}"
      ]
     },
     "metadata": {},
     "output_type": "display_data"
    },
    {
     "name": "stdout",
     "output_type": "stream",
     "text": [
      "\n",
      "\n"
     ]
    }
   ],
   "source": [
    "paramSets = [(1,0,0), (0,1,0), (0,0,1), #Pure symmetries\n",
    "             (0, 0.5, 0.5)]\n",
    "\n",
    "for param in paramSets:\n",
    "  display(param)\n",
    "  subs = [(g_s, param[0]), (g_d1, param[1]), (g_d2, param[2])]\n",
    "\n",
    "  subsitutedEqs = [eq.subs(subs) for eq in equations]\n",
    "\n",
    "  #Solve system of equations\n",
    "  sol = sp.solve(subsitutedEqs, (x,y,z))\n",
    "  display(sol)\n",
    "  print(\"\\n\")"
   ]
  }
 ],
 "metadata": {
  "kernelspec": {
   "display_name": "base",
   "language": "python",
   "name": "python3"
  },
  "language_info": {
   "codemirror_mode": {
    "name": "ipython",
    "version": 3
   },
   "file_extension": ".py",
   "mimetype": "text/x-python",
   "name": "python",
   "nbconvert_exporter": "python",
   "pygments_lexer": "ipython3",
   "version": "3.11.8"
  }
 },
 "nbformat": 4,
 "nbformat_minor": 5
}
