{
 "cells": [
  {
   "cell_type": "code",
   "execution_count": 13,
   "id": "9c9aacc4",
   "metadata": {},
   "outputs": [],
   "source": [
    "import numpy as np\n",
    "import sympy as sp\n",
    "from sympy.physics.quantum import TensorProduct\n",
    "from sympy.vector import CoordSys3D"
   ]
  },
  {
   "cell_type": "code",
   "execution_count": 14,
   "id": "7ee4dd4b",
   "metadata": {},
   "outputs": [],
   "source": [
    "x,y,z,g_s, g_d1, g_d2 = sp.symbols('x y z g_s g_d1 d_d2')\n",
    "\n",
    "#Define system of equations in a form f(X) = 0\n",
    "equations = [x + y + z - g_s,\n",
    "             x - y - g_d1,\n",
    "             x - z - g_d2]"
   ]
  },
  {
   "cell_type": "code",
   "execution_count": null,
   "id": "9ddef8d8",
   "metadata": {},
   "outputs": [
    {
     "data": {
      "text/plain": [
       "(1, 0, 0)"
      ]
     },
     "metadata": {},
     "output_type": "display_data"
    },
    {
     "data": {
      "text/plain": [
       "{x: 1/3, y: 1/3, z: 1/3}"
      ]
     },
     "metadata": {},
     "output_type": "display_data"
    },
    {
     "name": "stdout",
     "output_type": "stream",
     "text": [
      "\n",
      "\n"
     ]
    },
    {
     "data": {
      "text/plain": [
       "(0, 1, 0)"
      ]
     },
     "metadata": {},
     "output_type": "display_data"
    },
    {
     "data": {
      "text/plain": [
       "{x: 1/3, y: -2/3, z: 1/3}"
      ]
     },
     "metadata": {},
     "output_type": "display_data"
    },
    {
     "name": "stdout",
     "output_type": "stream",
     "text": [
      "\n",
      "\n"
     ]
    },
    {
     "data": {
      "text/plain": [
       "(0, 0, 1)"
      ]
     },
     "metadata": {},
     "output_type": "display_data"
    },
    {
     "data": {
      "text/plain": [
       "{x: 1/3, y: 1/3, z: -2/3}"
      ]
     },
     "metadata": {},
     "output_type": "display_data"
    },
    {
     "name": "stdout",
     "output_type": "stream",
     "text": [
      "\n",
      "\n"
     ]
    }
   ],
   "source": [
    "paramSets = [(1,0,0), (0,1,0), (0,0,1), #Pure symmetries\n",
    "            ]\n",
    "\n",
    "for param in paramSets:\n",
    "  display(param)\n",
    "  subs = [(g_s, param[0]), (g_d1, param[1]), (g_d2, param[2])]\n",
    "\n",
    "  subsitutedEqs = [eq.subs(subs) for eq in equations]\n",
    "\n",
    "  #Solve system of equations\n",
    "  sol = sp.solve(subsitutedEqs, (x,y,z))\n",
    "  display(sol)\n",
    "  print(\"\\n\")"
   ]
  }
 ],
 "metadata": {
  "kernelspec": {
   "display_name": "base",
   "language": "python",
   "name": "python3"
  },
  "language_info": {
   "codemirror_mode": {
    "name": "ipython",
    "version": 3
   },
   "file_extension": ".py",
   "mimetype": "text/x-python",
   "name": "python",
   "nbconvert_exporter": "python",
   "pygments_lexer": "ipython3",
   "version": "3.11.8"
  }
 },
 "nbformat": 4,
 "nbformat_minor": 5
}
