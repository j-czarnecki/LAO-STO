{
 "cells": [
  {
   "cell_type": "markdown",
   "metadata": {},
   "source": [
    "This file is part of LAO-STO.\n",
    "\n",
    "Copyright (C) 2025 Julian Czarnecki\n",
    "\n",
    "This program is free software: you can redistribute it and/or modify\n",
    "it under the terms of the GNU General Public License as published by\n",
    "the Free Software Foundation, either version 3 of the License, or\n",
    "(at your option) any later version.\n",
    "\n",
    "This program is distributed in the hope that it will be useful,\n",
    "but WITHOUT ANY WARRANTY; without even the implied warranty of\n",
    "MERCHANTABILITY or FITNESS FOR A PARTICULAR PURPOSE.  See the\n",
    "GNU General Public License for more details.\n",
    "\n",
    "You should have received a copy of the GNU General Public License\n",
    "along with this program.  If not, see <https://www.gnu.org/licenses/>.\n",
    "\n",
    "If you use this code for scientific research, please cite:\n",
    "J. Czarnecki et. al.,\n",
    "\"Superconducting gap symmetry of 2DEG at (111)-oriented LaAlO3/SrTiO3 interface\",\n",
    "arXiv:2508.05075 (2025).\n",
    "https://arxiv.org/abs/2508.05075"
   ]
  },
  {
   "cell_type": "code",
   "execution_count": 104,
   "metadata": {},
   "outputs": [],
   "source": [
    "import numpy as np\n",
    "from sympy import *\n",
    "\n",
    "init_printing(use_latex='mathjax')\n"
   ]
  },
  {
   "cell_type": "code",
   "execution_count": 105,
   "metadata": {},
   "outputs": [
    {
     "data": {
      "text/latex": [
       "$\\displaystyle \\left[\\begin{matrix}0 & 0 & 0 & eps_{yz} & 0 & 0\\\\0 & 0 & 0 & 0 & eps_{zx} & 0\\\\0 & 0 & 0 & 0 & 0 & eps_{xy}\\\\\\overline{eps_{yz}} & 0 & 0 & 0 & 0 & 0\\\\0 & \\overline{eps_{zx}} & 0 & 0 & 0 & 0\\\\0 & 0 & \\overline{eps_{xy}} & 0 & 0 & 0\\end{matrix}\\right]$"
      ],
      "text/plain": [
       "⎡  0       0       0     eps_yz    0       0   ⎤\n",
       "⎢                                              ⎥\n",
       "⎢  0       0       0       0     eps_zx    0   ⎥\n",
       "⎢                                              ⎥\n",
       "⎢  0       0       0       0       0     eps_xy⎥\n",
       "⎢                                              ⎥\n",
       "⎢______                                        ⎥\n",
       "⎢eps_yz    0       0       0       0       0   ⎥\n",
       "⎢                                              ⎥\n",
       "⎢        ______                                ⎥\n",
       "⎢  0     eps_zx    0       0       0       0   ⎥\n",
       "⎢                                              ⎥\n",
       "⎢                ______                        ⎥\n",
       "⎣  0       0     eps_xy    0       0       0   ⎦"
      ]
     },
     "metadata": {},
     "output_type": "display_data"
    }
   ],
   "source": [
    "#Define TBA matrix\n",
    "eps_yz, eps_zx, eps_xy = symbols('eps_yz, eps_zx, eps_xy')\n",
    "v = symbols('v')\n",
    "H = Matrix([[0,0,0,eps_yz, 0, 0], [0,0,0,0,eps_zx,0], [0,0,0,0,0,eps_xy], [conjugate(eps_yz),0,0,0,0,0], [0,conjugate(eps_zx),0,0,0,0], [0,0,conjugate(eps_xy),0,0,0]])\n",
    "display(H)"
   ]
  },
  {
   "cell_type": "code",
   "execution_count": 106,
   "metadata": {},
   "outputs": [
    {
     "data": {
      "text/latex": [
       "$\\displaystyle \\left[\\begin{matrix}0 & 0 & - \\frac{eps_{yz}}{\\sqrt{eps_{yz} \\overline{eps_{yz}}}} & \\frac{eps_{yz}}{\\sqrt{eps_{yz} \\overline{eps_{yz}}}} & 0 & 0\\\\0 & 0 & 0 & 0 & - \\frac{eps_{zx}}{\\sqrt{eps_{zx} \\overline{eps_{zx}}}} & \\frac{eps_{zx}}{\\sqrt{eps_{zx} \\overline{eps_{zx}}}}\\\\- \\frac{eps_{xy}}{\\sqrt{eps_{xy} \\overline{eps_{xy}}}} & \\frac{eps_{xy}}{\\sqrt{eps_{xy} \\overline{eps_{xy}}}} & 0 & 0 & 0 & 0\\\\0 & 0 & 1 & 1 & 0 & 0\\\\0 & 0 & 0 & 0 & 1 & 1\\\\1 & 1 & 0 & 0 & 0 & 0\\end{matrix}\\right]$"
      ],
      "text/plain": [
       "⎡                                             -eps_yz              eps_yz     \n",
       "⎢        0                   0           ──────────────────  ─────────────────\n",
       "⎢                                           _______________     ______________\n",
       "⎢                                          ╱        ______     ╱        ______\n",
       "⎢                                        ╲╱  eps_yz⋅eps_yz   ╲╱  eps_yz⋅eps_yz\n",
       "⎢                                                                             \n",
       "⎢                                                                             \n",
       "⎢        0                   0                   0                   0        \n",
       "⎢                                                                             \n",
       "⎢                                                                             \n",
       "⎢                                                                             \n",
       "⎢                                                                             \n",
       "⎢     -eps_xy              eps_xy                                             \n",
       "⎢──────────────────  ──────────────────          0                   0        \n",
       "⎢   _______________     _______________                                       \n",
       "⎢  ╱        ______     ╱        ______                                        \n",
       "⎢╲╱  eps_xy⋅eps_xy   ╲╱  eps_xy⋅eps_xy                                        \n",
       "⎢                                                                             \n",
       "⎢        0                   0                   1                   1        \n",
       "⎢                                                                             \n",
       "⎢        0                   0                   0                   0        \n",
       "⎢                                                                             \n",
       "⎣        1                   1                   0                   0        \n",
       "\n",
       "                                         ⎤\n",
       "─          0                   0         ⎥\n",
       "_                                        ⎥\n",
       "                                         ⎥\n",
       "                                         ⎥\n",
       "                                         ⎥\n",
       "        -eps_zx              eps_zx      ⎥\n",
       "   ──────────────────  ──────────────────⎥\n",
       "      _______________     _______________⎥\n",
       "     ╱        ______     ╱        ______ ⎥\n",
       "   ╲╱  eps_zx⋅eps_zx   ╲╱  eps_zx⋅eps_zx ⎥\n",
       "                                         ⎥\n",
       "                                         ⎥\n",
       "           0                   0         ⎥\n",
       "                                         ⎥\n",
       "                                         ⎥\n",
       "                                         ⎥\n",
       "                                         ⎥\n",
       "           0                   0         ⎥\n",
       "                                         ⎥\n",
       "           1                   1         ⎥\n",
       "                                         ⎥\n",
       "           0                   0         ⎦"
      ]
     },
     "metadata": {},
     "output_type": "display_data"
    },
    {
     "data": {
      "text/latex": [
       "$\\displaystyle \\left[\\begin{matrix}- \\sqrt{eps_{xy} \\overline{eps_{xy}}} & 0 & 0 & 0 & 0 & 0\\\\0 & \\sqrt{eps_{xy} \\overline{eps_{xy}}} & 0 & 0 & 0 & 0\\\\0 & 0 & - \\sqrt{eps_{yz} \\overline{eps_{yz}}} & 0 & 0 & 0\\\\0 & 0 & 0 & \\sqrt{eps_{yz} \\overline{eps_{yz}}} & 0 & 0\\\\0 & 0 & 0 & 0 & - \\sqrt{eps_{zx} \\overline{eps_{zx}}} & 0\\\\0 & 0 & 0 & 0 & 0 & \\sqrt{eps_{zx} \\overline{eps_{zx}}}\\end{matrix}\\right]$"
      ],
      "text/plain": [
       "⎡    _______________                                                          \n",
       "⎢   ╱        ______                                                           \n",
       "⎢-╲╱  eps_xy⋅eps_xy           0                    0                   0      \n",
       "⎢                                                                             \n",
       "⎢                        _______________                                      \n",
       "⎢                       ╱        ______                                       \n",
       "⎢         0           ╲╱  eps_xy⋅eps_xy            0                   0      \n",
       "⎢                                                                             \n",
       "⎢                                             _______________                 \n",
       "⎢                                            ╱        ______                  \n",
       "⎢         0                   0           -╲╱  eps_yz⋅eps_yz           0      \n",
       "⎢                                                                             \n",
       "⎢                                                                 ____________\n",
       "⎢                                                                ╱        ____\n",
       "⎢         0                   0                    0           ╲╱  eps_yz⋅eps_\n",
       "⎢                                                                             \n",
       "⎢                                                                             \n",
       "⎢                                                                             \n",
       "⎢         0                   0                    0                   0      \n",
       "⎢                                                                             \n",
       "⎢                                                                             \n",
       "⎢                                                                             \n",
       "⎣         0                   0                    0                   0      \n",
       "\n",
       "                                            ⎤\n",
       "                                            ⎥\n",
       "              0                   0         ⎥\n",
       "                                            ⎥\n",
       "                                            ⎥\n",
       "                                            ⎥\n",
       "              0                   0         ⎥\n",
       "                                            ⎥\n",
       "                                            ⎥\n",
       "                                            ⎥\n",
       "              0                   0         ⎥\n",
       "                                            ⎥\n",
       "___                                         ⎥\n",
       "__                                          ⎥\n",
       "yz            0                   0         ⎥\n",
       "                                            ⎥\n",
       "         _______________                    ⎥\n",
       "        ╱        ______                     ⎥\n",
       "     -╲╱  eps_zx⋅eps_zx           0         ⎥\n",
       "                                            ⎥\n",
       "                             _______________⎥\n",
       "                            ╱        ______ ⎥\n",
       "              0           ╲╱  eps_zx⋅eps_zx ⎦"
      ]
     },
     "metadata": {},
     "output_type": "display_data"
    }
   ],
   "source": [
    "#Diagonalize and print diagonalized matrix and transformation matrix\n",
    "U, H_diag = H.diagonalize()\n",
    "display(U)\n",
    "display(H_diag)"
   ]
  },
  {
   "cell_type": "code",
   "execution_count": 107,
   "metadata": {},
   "outputs": [
    {
     "name": "stdout",
     "output_type": "stream",
     "text": [
      "[1. 0. 1. 0. 0. 0.]\n"
     ]
    }
   ],
   "source": [
    "def fill(i):\n",
    "    if i%2 == 0:\n",
    "        return 1\n",
    "    else:\n",
    "        return 0\n",
    "    \n",
    "occupations = np.zeros(6)\n",
    "for i in range(len(occupations)):\n",
    "    occupations[i] = fill(i)\n",
    "\n",
    "\n",
    "occupations[0] = 1\n",
    "occupations[2] = 1\n",
    "occupations[4] = 0\n",
    "print(occupations)"
   ]
  },
  {
   "cell_type": "code",
   "execution_count": 108,
   "metadata": {},
   "outputs": [
    {
     "data": {
      "text/latex": [
       "$\\displaystyle \\left[\\begin{matrix}1.0 \\sqrt{eps_{yz} \\overline{eps_{yz}}} \\overline{\\frac{1}{\\sqrt{eps_{yz} \\overline{eps_{yz}}}}}\\\\0\\\\1.0 \\sqrt{eps_{xy} \\overline{eps_{xy}}} \\overline{\\frac{1}{\\sqrt{eps_{xy} \\overline{eps_{xy}}}}}\\\\1.0\\\\0\\\\1.0\\end{matrix}\\right]$"
      ],
      "text/plain": [
       "⎡       _______________ __________________⎤\n",
       "⎢      ╱        ______          1         ⎥\n",
       "⎢1.0⋅╲╱  eps_yz⋅eps_yz ⋅──────────────────⎥\n",
       "⎢                          _______________⎥\n",
       "⎢                         ╱        ______ ⎥\n",
       "⎢                       ╲╱  eps_yz⋅eps_yz ⎥\n",
       "⎢                                         ⎥\n",
       "⎢                    0                    ⎥\n",
       "⎢                                         ⎥\n",
       "⎢       _______________ __________________⎥\n",
       "⎢      ╱        ______          1         ⎥\n",
       "⎢1.0⋅╲╱  eps_xy⋅eps_xy ⋅──────────────────⎥\n",
       "⎢                          _______________⎥\n",
       "⎢                         ╱        ______ ⎥\n",
       "⎢                       ╲╱  eps_xy⋅eps_xy ⎥\n",
       "⎢                                         ⎥\n",
       "⎢                   1.0                   ⎥\n",
       "⎢                                         ⎥\n",
       "⎢                    0                    ⎥\n",
       "⎢                                         ⎥\n",
       "⎣                   1.0                   ⎦"
      ]
     },
     "metadata": {},
     "output_type": "display_data"
    }
   ],
   "source": [
    "n_state = Matrix(np.zeros(6))\n",
    "\n",
    "for i in range(len(n_state)):\n",
    "    for j in range(len(n_state)):\n",
    "        n_state[i] += conjugate(U[i,j])*U[i,j]*occupations[j]\n",
    "\n",
    "display(simplify(n_state))"
   ]
  },
  {
   "cell_type": "code",
   "execution_count": null,
   "metadata": {},
   "outputs": [],
   "source": []
  }
 ],
 "metadata": {
  "kernelspec": {
   "display_name": "Python 3",
   "language": "python",
   "name": "python3"
  },
  "language_info": {
   "codemirror_mode": {
    "name": "ipython",
    "version": 3
   },
   "file_extension": ".py",
   "mimetype": "text/x-python",
   "name": "python",
   "nbconvert_exporter": "python",
   "pygments_lexer": "ipython3",
   "version": "3.10.12"
  }
 },
 "nbformat": 4,
 "nbformat_minor": 2
}
