{
 "cells": [
  {
   "cell_type": "code",
   "execution_count": 1,
   "id": "c29f3d4a",
   "metadata": {},
   "outputs": [],
   "source": [
    "import sympy as sp"
   ]
  },
  {
   "cell_type": "code",
   "execution_count": 4,
   "id": "73d998b5",
   "metadata": {},
   "outputs": [
    {
     "data": {
      "text/latex": [
       "$\\displaystyle \\left[\\begin{matrix}- \\frac{\\sqrt{2}}{2} & - \\frac{\\sqrt{6}}{6} & \\frac{\\sqrt{3}}{3}\\\\\\frac{\\sqrt{2}}{2} & - \\frac{\\sqrt{6}}{6} & \\frac{\\sqrt{3}}{3}\\\\0 & \\frac{\\sqrt{6}}{3} & \\frac{\\sqrt{3}}{3}\\end{matrix}\\right]$"
      ],
      "text/plain": [
       "Matrix([\n",
       "[-sqrt(2)/2, -sqrt(6)/6, sqrt(3)/3],\n",
       "[ sqrt(2)/2, -sqrt(6)/6, sqrt(3)/3],\n",
       "[         0,  sqrt(6)/3, sqrt(3)/3]])"
      ]
     },
     "metadata": {},
     "output_type": "display_data"
    }
   ],
   "source": [
    "R = sp.Matrix([[-1/sp.sqrt(2), -1/sp.sqrt(6), 1/sp.sqrt(3)],\n",
    "               [1/sp.sqrt(2), -1/sp.sqrt(6), 1/sp.sqrt(3)],\n",
    "               [0, sp.sqrt(sp.Rational(2,3)), 1/sp.sqrt(3)]])\n",
    "display(R)"
   ]
  },
  {
   "cell_type": "code",
   "execution_count": 5,
   "id": "b91b3864",
   "metadata": {},
   "outputs": [
    {
     "data": {
      "text/latex": [
       "$\\displaystyle \\left[\\begin{matrix}- \\frac{\\sqrt{2}}{2} & \\frac{\\sqrt{2}}{2} & 0\\\\- \\frac{\\sqrt{6}}{6} & - \\frac{\\sqrt{6}}{6} & \\frac{\\sqrt{6}}{3}\\\\\\frac{\\sqrt{3}}{3} & \\frac{\\sqrt{3}}{3} & \\frac{\\sqrt{3}}{3}\\end{matrix}\\right]$"
      ],
      "text/plain": [
       "Matrix([\n",
       "[-sqrt(2)/2,  sqrt(2)/2,         0],\n",
       "[-sqrt(6)/6, -sqrt(6)/6, sqrt(6)/3],\n",
       "[ sqrt(3)/3,  sqrt(3)/3, sqrt(3)/3]])"
      ]
     },
     "metadata": {},
     "output_type": "display_data"
    }
   ],
   "source": [
    "display(R.inv())"
   ]
  },
  {
   "cell_type": "code",
   "execution_count": null,
   "id": "ac4e6ad0",
   "metadata": {},
   "outputs": [],
   "source": []
  }
 ],
 "metadata": {
  "kernelspec": {
   "display_name": "tkwant",
   "language": "python",
   "name": "python3"
  },
  "language_info": {
   "codemirror_mode": {
    "name": "ipython",
    "version": 3
   },
   "file_extension": ".py",
   "mimetype": "text/x-python",
   "name": "python",
   "nbconvert_exporter": "python",
   "pygments_lexer": "ipython3",
   "version": "3.9.21"
  }
 },
 "nbformat": 4,
 "nbformat_minor": 5
}
