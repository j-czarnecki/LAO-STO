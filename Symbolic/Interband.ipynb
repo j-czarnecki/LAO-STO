{
 "cells": [
  {
   "cell_type": "code",
   "execution_count": 99,
   "metadata": {},
   "outputs": [],
   "source": [
    "import numpy as np\n",
    "import sympy as sp"
   ]
  },
  {
   "cell_type": "code",
   "execution_count": null,
   "metadata": {},
   "outputs": [],
   "source": [
    "delta_1_ud, delta_2_du, delta_3_ud, delta_4_du = sp.symbols(r\"\\Delta_1, \\Delta_2, \\Delta_3, \\Delta_4\", complex = True)\n",
    "eps_1, eps_2 = sp.symbols(r\"\\epsilon_1, \\epsilon_2\", complex=True)\n"
   ]
  },
  {
   "cell_type": "code",
   "execution_count": 101,
   "metadata": {},
   "outputs": [
    {
     "data": {
      "text/latex": [
       "$\\displaystyle \\left[\\begin{matrix}0 & 0 & \\epsilon_{1} & 0\\\\0 & 0 & 0 & \\epsilon_{2}\\\\\\overline{\\epsilon_{1}} & 0 & 0 & 0\\\\0 & \\overline{\\epsilon_{2}} & 0 & 0\\end{matrix}\\right]$"
      ],
      "text/plain": [
       "Matrix([\n",
       "[                    0,                     0, \\epsilon_1,          0],\n",
       "[                    0,                     0,          0, \\epsilon_2],\n",
       "[conjugate(\\epsilon_1),                     0,          0,          0],\n",
       "[                    0, conjugate(\\epsilon_2),          0,          0]])"
      ]
     },
     "metadata": {},
     "output_type": "display_data"
    },
    {
     "data": {
      "text/latex": [
       "$\\displaystyle \\left[\\begin{matrix}\\Delta_{1} & 0 & 0 & 0\\\\0 & \\Delta_{2} & 0 & 0\\\\0 & 0 & \\Delta_{3} & 0\\\\0 & 0 & 0 & \\Delta_{4}\\end{matrix}\\right]$"
      ],
      "text/plain": [
       "Matrix([\n",
       "[\\Delta_1,        0,        0,        0],\n",
       "[       0, \\Delta_2,        0,        0],\n",
       "[       0,        0, \\Delta_3,        0],\n",
       "[       0,        0,        0, \\Delta_4]])"
      ]
     },
     "metadata": {},
     "output_type": "display_data"
    },
    {
     "data": {
      "text/latex": [
       "$\\displaystyle \\left[\\begin{matrix}0 & 0 & \\epsilon_{1} & 0 & 0 & 0 & 0 & 0\\\\0 & 0 & 0 & \\epsilon_{2} & 0 & 0 & 0 & 0\\\\\\overline{\\epsilon_{1}} & 0 & 0 & 0 & 0 & 0 & 0 & 0\\\\0 & \\overline{\\epsilon_{2}} & 0 & 0 & 0 & 0 & 0 & 0\\\\0 & 0 & 0 & 0 & 0 & 0 & - \\epsilon_{1} & 0\\\\0 & 0 & 0 & 0 & 0 & 0 & 0 & - \\epsilon_{2}\\\\0 & 0 & 0 & 0 & - \\overline{\\epsilon_{1}} & 0 & 0 & 0\\\\0 & 0 & 0 & 0 & 0 & - \\overline{\\epsilon_{2}} & 0 & 0\\end{matrix}\\right]$"
      ],
      "text/plain": [
       "Matrix([\n",
       "[                    0,                     0, \\epsilon_1,          0,                      0,                      0,           0,           0],\n",
       "[                    0,                     0,          0, \\epsilon_2,                      0,                      0,           0,           0],\n",
       "[conjugate(\\epsilon_1),                     0,          0,          0,                      0,                      0,           0,           0],\n",
       "[                    0, conjugate(\\epsilon_2),          0,          0,                      0,                      0,           0,           0],\n",
       "[                    0,                     0,          0,          0,                      0,                      0, -\\epsilon_1,           0],\n",
       "[                    0,                     0,          0,          0,                      0,                      0,           0, -\\epsilon_2],\n",
       "[                    0,                     0,          0,          0, -conjugate(\\epsilon_1),                      0,           0,           0],\n",
       "[                    0,                     0,          0,          0,                      0, -conjugate(\\epsilon_2),           0,           0]])"
      ]
     },
     "metadata": {},
     "output_type": "display_data"
    },
    {
     "data": {
      "text/latex": [
       "$\\displaystyle \\left[\\begin{matrix}0 & 0 & \\epsilon_{1} & 0 & \\Delta_{1} & 0 & 0 & 0\\\\0 & 0 & 0 & \\epsilon_{2} & 0 & \\Delta_{2} & 0 & 0\\\\\\overline{\\epsilon_{1}} & 0 & 0 & 0 & 0 & 0 & \\Delta_{3} & 0\\\\0 & \\overline{\\epsilon_{2}} & 0 & 0 & 0 & 0 & 0 & \\Delta_{4}\\\\\\overline{\\Delta_{1}} & 0 & 0 & 0 & 0 & 0 & - \\epsilon_{1} & 0\\\\0 & \\overline{\\Delta_{2}} & 0 & 0 & 0 & 0 & 0 & - \\epsilon_{2}\\\\0 & 0 & \\overline{\\Delta_{3}} & 0 & - \\overline{\\epsilon_{1}} & 0 & 0 & 0\\\\0 & 0 & 0 & \\overline{\\Delta_{4}} & 0 & - \\overline{\\epsilon_{2}} & 0 & 0\\end{matrix}\\right]$"
      ],
      "text/plain": [
       "Matrix([\n",
       "[                    0,                     0,          \\epsilon_1,                   0,               \\Delta_1,                      0,           0,           0],\n",
       "[                    0,                     0,                   0,          \\epsilon_2,                      0,               \\Delta_2,           0,           0],\n",
       "[conjugate(\\epsilon_1),                     0,                   0,                   0,                      0,                      0,    \\Delta_3,           0],\n",
       "[                    0, conjugate(\\epsilon_2),                   0,                   0,                      0,                      0,           0,    \\Delta_4],\n",
       "[  conjugate(\\Delta_1),                     0,                   0,                   0,                      0,                      0, -\\epsilon_1,           0],\n",
       "[                    0,   conjugate(\\Delta_2),                   0,                   0,                      0,                      0,           0, -\\epsilon_2],\n",
       "[                    0,                     0, conjugate(\\Delta_3),                   0, -conjugate(\\epsilon_1),                      0,           0,           0],\n",
       "[                    0,                     0,                   0, conjugate(\\Delta_4),                      0, -conjugate(\\epsilon_2),           0,           0]])"
      ]
     },
     "metadata": {},
     "output_type": "display_data"
    }
   ],
   "source": [
    "dim = 4\n",
    "epsilons = [eps_1, eps_2]\n",
    "deltas = [delta_1_ud, delta_2_du, delta_3_ud, delta_4_du]\n",
    "\n",
    "\n",
    "H_eps = (\n",
    "  sp.Matrix([[epsilons[j % 2] if i - 2 == j else 0 for i in range(dim)] for j in range(dim)]) +\n",
    "  sp.Matrix([[sp.conjugate(epsilons[j % 2]) if i + 2 == j else 0 for i in range(dim)] for j in range(dim)]) \n",
    "  )\n",
    "display(H_eps)\n",
    "H_delta = sp.Matrix([[deltas[i] if i == j else 0 for i in range(dim)] for j in range(dim)])\n",
    "display(H_delta)\n",
    "\n",
    "\n",
    "#Constructing hamiltonian in Nambu space\n",
    "#Only kinetic terms\n",
    "H_k = sp.Matrix([[H_eps, sp.Matrix(np.zeros((dim,dim),dtype=int))], [sp.Matrix(np.zeros((dim,dim), dtype = int)), -H_eps]])\n",
    "display(H_k)\n",
    "\n",
    "#Full hamiltonian with superconducting coupling\n",
    "H_Nambu = sp.Matrix([[H_eps, H_delta], [sp.adjoint(H_delta), -H_eps]])\n",
    "display(H_Nambu)"
   ]
  },
  {
   "cell_type": "code",
   "execution_count": 102,
   "metadata": {},
   "outputs": [
    {
     "data": {
      "text/latex": [
       "$\\displaystyle \\left[\\begin{matrix}- \\frac{\\epsilon_{1}}{\\sqrt{\\epsilon_{1} \\overline{\\epsilon_{1}}}} & 0 & \\frac{\\epsilon_{1}}{\\sqrt{\\epsilon_{1} \\overline{\\epsilon_{1}}}} & 0 & 0 & 0 & 0 & 0\\\\0 & 0 & 0 & 0 & - \\frac{\\epsilon_{2}}{\\sqrt{\\epsilon_{2} \\overline{\\epsilon_{2}}}} & 0 & \\frac{\\epsilon_{2}}{\\sqrt{\\epsilon_{2} \\overline{\\epsilon_{2}}}} & 0\\\\1 & 0 & 1 & 0 & 0 & 0 & 0 & 0\\\\0 & 0 & 0 & 0 & 1 & 0 & 1 & 0\\\\0 & \\frac{\\epsilon_{1}}{\\sqrt{\\epsilon_{1} \\overline{\\epsilon_{1}}}} & 0 & - \\frac{\\epsilon_{1}}{\\sqrt{\\epsilon_{1} \\overline{\\epsilon_{1}}}} & 0 & 0 & 0 & 0\\\\0 & 0 & 0 & 0 & 0 & \\frac{\\epsilon_{2}}{\\sqrt{\\epsilon_{2} \\overline{\\epsilon_{2}}}} & 0 & - \\frac{\\epsilon_{2}}{\\sqrt{\\epsilon_{2} \\overline{\\epsilon_{2}}}}\\\\0 & 1 & 0 & 1 & 0 & 0 & 0 & 0\\\\0 & 0 & 0 & 0 & 0 & 1 & 0 & 1\\end{matrix}\\right]$"
      ],
      "text/plain": [
       "Matrix([\n",
       "[-\\epsilon_1/sqrt(\\epsilon_1*conjugate(\\epsilon_1)),                                                 0, \\epsilon_1/sqrt(\\epsilon_1*conjugate(\\epsilon_1)),                                                  0,                                                  0,                                                 0,                                                 0,                                                  0],\n",
       "[                                                 0,                                                 0,                                                 0,                                                  0, -\\epsilon_2/sqrt(\\epsilon_2*conjugate(\\epsilon_2)),                                                 0, \\epsilon_2/sqrt(\\epsilon_2*conjugate(\\epsilon_2)),                                                  0],\n",
       "[                                                 1,                                                 0,                                                 1,                                                  0,                                                  0,                                                 0,                                                 0,                                                  0],\n",
       "[                                                 0,                                                 0,                                                 0,                                                  0,                                                  1,                                                 0,                                                 1,                                                  0],\n",
       "[                                                 0, \\epsilon_1/sqrt(\\epsilon_1*conjugate(\\epsilon_1)),                                                 0, -\\epsilon_1/sqrt(\\epsilon_1*conjugate(\\epsilon_1)),                                                  0,                                                 0,                                                 0,                                                  0],\n",
       "[                                                 0,                                                 0,                                                 0,                                                  0,                                                  0, \\epsilon_2/sqrt(\\epsilon_2*conjugate(\\epsilon_2)),                                                 0, -\\epsilon_2/sqrt(\\epsilon_2*conjugate(\\epsilon_2))],\n",
       "[                                                 0,                                                 1,                                                 0,                                                  1,                                                  0,                                                 0,                                                 0,                                                  0],\n",
       "[                                                 0,                                                 0,                                                 0,                                                  0,                                                  0,                                                 1,                                                 0,                                                  1]])"
      ]
     },
     "metadata": {},
     "output_type": "display_data"
    },
    {
     "data": {
      "text/latex": [
       "$\\displaystyle \\left[\\begin{matrix}- \\sqrt{\\epsilon_{1} \\overline{\\epsilon_{1}}} & 0 & 0 & 0 & 0 & 0 & 0 & 0\\\\0 & - \\sqrt{\\epsilon_{1} \\overline{\\epsilon_{1}}} & 0 & 0 & 0 & 0 & 0 & 0\\\\0 & 0 & \\sqrt{\\epsilon_{1} \\overline{\\epsilon_{1}}} & 0 & 0 & 0 & 0 & 0\\\\0 & 0 & 0 & \\sqrt{\\epsilon_{1} \\overline{\\epsilon_{1}}} & 0 & 0 & 0 & 0\\\\0 & 0 & 0 & 0 & - \\sqrt{\\epsilon_{2} \\overline{\\epsilon_{2}}} & 0 & 0 & 0\\\\0 & 0 & 0 & 0 & 0 & - \\sqrt{\\epsilon_{2} \\overline{\\epsilon_{2}}} & 0 & 0\\\\0 & 0 & 0 & 0 & 0 & 0 & \\sqrt{\\epsilon_{2} \\overline{\\epsilon_{2}}} & 0\\\\0 & 0 & 0 & 0 & 0 & 0 & 0 & \\sqrt{\\epsilon_{2} \\overline{\\epsilon_{2}}}\\end{matrix}\\right]$"
      ],
      "text/plain": [
       "Matrix([\n",
       "[-sqrt(\\epsilon_1*conjugate(\\epsilon_1)),                                       0,                                      0,                                      0,                                       0,                                       0,                                      0,                                      0],\n",
       "[                                      0, -sqrt(\\epsilon_1*conjugate(\\epsilon_1)),                                      0,                                      0,                                       0,                                       0,                                      0,                                      0],\n",
       "[                                      0,                                       0, sqrt(\\epsilon_1*conjugate(\\epsilon_1)),                                      0,                                       0,                                       0,                                      0,                                      0],\n",
       "[                                      0,                                       0,                                      0, sqrt(\\epsilon_1*conjugate(\\epsilon_1)),                                       0,                                       0,                                      0,                                      0],\n",
       "[                                      0,                                       0,                                      0,                                      0, -sqrt(\\epsilon_2*conjugate(\\epsilon_2)),                                       0,                                      0,                                      0],\n",
       "[                                      0,                                       0,                                      0,                                      0,                                       0, -sqrt(\\epsilon_2*conjugate(\\epsilon_2)),                                      0,                                      0],\n",
       "[                                      0,                                       0,                                      0,                                      0,                                       0,                                       0, sqrt(\\epsilon_2*conjugate(\\epsilon_2)),                                      0],\n",
       "[                                      0,                                       0,                                      0,                                      0,                                       0,                                       0,                                      0, sqrt(\\epsilon_2*conjugate(\\epsilon_2))]])"
      ]
     },
     "metadata": {},
     "output_type": "display_data"
    }
   ],
   "source": [
    "#Diagonalize hamiltonian containing only kinetic terms\n",
    "U, H_diag = H_k.diagonalize()\n",
    "display(U)\n",
    "display(H_diag)"
   ]
  },
  {
   "cell_type": "code",
   "execution_count": null,
   "metadata": {},
   "outputs": [
    {
     "data": {
      "text/latex": [
       "$\\displaystyle \\left[\\begin{matrix}- \\epsilon_{1} \\overline{\\epsilon_{1}} \\overline{\\frac{1}{\\sqrt{\\epsilon_{1} \\overline{\\epsilon_{1}}}}} - \\frac{\\epsilon_{1} \\overline{\\epsilon_{1}}}{\\sqrt{\\epsilon_{1} \\overline{\\epsilon_{1}}}} & - \\frac{\\Delta_{1} \\epsilon_{1} \\overline{\\epsilon_{1}} \\overline{\\frac{1}{\\sqrt{\\epsilon_{1} \\overline{\\epsilon_{1}}}}}}{\\sqrt{\\epsilon_{1} \\overline{\\epsilon_{1}}}} + \\Delta_{3} & - \\epsilon_{1} \\overline{\\epsilon_{1}} \\overline{\\frac{1}{\\sqrt{\\epsilon_{1} \\overline{\\epsilon_{1}}}}} + \\frac{\\epsilon_{1} \\overline{\\epsilon_{1}}}{\\sqrt{\\epsilon_{1} \\overline{\\epsilon_{1}}}} & \\frac{\\Delta_{1} \\epsilon_{1} \\overline{\\epsilon_{1}} \\overline{\\frac{1}{\\sqrt{\\epsilon_{1} \\overline{\\epsilon_{1}}}}}}{\\sqrt{\\epsilon_{1} \\overline{\\epsilon_{1}}}} + \\Delta_{3} & 0 & 0 & 0 & 0\\\\- \\frac{\\epsilon_{1} \\overline{\\Delta_{1}} \\overline{\\epsilon_{1}} \\overline{\\frac{1}{\\sqrt{\\epsilon_{1} \\overline{\\epsilon_{1}}}}}}{\\sqrt{\\epsilon_{1} \\overline{\\epsilon_{1}}}} + \\overline{\\Delta_{3}} & - \\epsilon_{1} \\overline{\\epsilon_{1}} \\overline{\\frac{1}{\\sqrt{\\epsilon_{1} \\overline{\\epsilon_{1}}}}} - \\frac{\\epsilon_{1} \\overline{\\epsilon_{1}}}{\\sqrt{\\epsilon_{1} \\overline{\\epsilon_{1}}}} & \\frac{\\epsilon_{1} \\overline{\\Delta_{1}} \\overline{\\epsilon_{1}} \\overline{\\frac{1}{\\sqrt{\\epsilon_{1} \\overline{\\epsilon_{1}}}}}}{\\sqrt{\\epsilon_{1} \\overline{\\epsilon_{1}}}} + \\overline{\\Delta_{3}} & - \\epsilon_{1} \\overline{\\epsilon_{1}} \\overline{\\frac{1}{\\sqrt{\\epsilon_{1} \\overline{\\epsilon_{1}}}}} + \\frac{\\epsilon_{1} \\overline{\\epsilon_{1}}}{\\sqrt{\\epsilon_{1} \\overline{\\epsilon_{1}}}} & 0 & 0 & 0 & 0\\\\\\epsilon_{1} \\overline{\\epsilon_{1}} \\overline{\\frac{1}{\\sqrt{\\epsilon_{1} \\overline{\\epsilon_{1}}}}} - \\frac{\\epsilon_{1} \\overline{\\epsilon_{1}}}{\\sqrt{\\epsilon_{1} \\overline{\\epsilon_{1}}}} & \\frac{\\Delta_{1} \\epsilon_{1} \\overline{\\epsilon_{1}} \\overline{\\frac{1}{\\sqrt{\\epsilon_{1} \\overline{\\epsilon_{1}}}}}}{\\sqrt{\\epsilon_{1} \\overline{\\epsilon_{1}}}} + \\Delta_{3} & \\epsilon_{1} \\overline{\\epsilon_{1}} \\overline{\\frac{1}{\\sqrt{\\epsilon_{1} \\overline{\\epsilon_{1}}}}} + \\frac{\\epsilon_{1} \\overline{\\epsilon_{1}}}{\\sqrt{\\epsilon_{1} \\overline{\\epsilon_{1}}}} & - \\frac{\\Delta_{1} \\epsilon_{1} \\overline{\\epsilon_{1}} \\overline{\\frac{1}{\\sqrt{\\epsilon_{1} \\overline{\\epsilon_{1}}}}}}{\\sqrt{\\epsilon_{1} \\overline{\\epsilon_{1}}}} + \\Delta_{3} & 0 & 0 & 0 & 0\\\\\\frac{\\epsilon_{1} \\overline{\\Delta_{1}} \\overline{\\epsilon_{1}} \\overline{\\frac{1}{\\sqrt{\\epsilon_{1} \\overline{\\epsilon_{1}}}}}}{\\sqrt{\\epsilon_{1} \\overline{\\epsilon_{1}}}} + \\overline{\\Delta_{3}} & \\epsilon_{1} \\overline{\\epsilon_{1}} \\overline{\\frac{1}{\\sqrt{\\epsilon_{1} \\overline{\\epsilon_{1}}}}} - \\frac{\\epsilon_{1} \\overline{\\epsilon_{1}}}{\\sqrt{\\epsilon_{1} \\overline{\\epsilon_{1}}}} & - \\frac{\\epsilon_{1} \\overline{\\Delta_{1}} \\overline{\\epsilon_{1}} \\overline{\\frac{1}{\\sqrt{\\epsilon_{1} \\overline{\\epsilon_{1}}}}}}{\\sqrt{\\epsilon_{1} \\overline{\\epsilon_{1}}}} + \\overline{\\Delta_{3}} & \\epsilon_{1} \\overline{\\epsilon_{1}} \\overline{\\frac{1}{\\sqrt{\\epsilon_{1} \\overline{\\epsilon_{1}}}}} + \\frac{\\epsilon_{1} \\overline{\\epsilon_{1}}}{\\sqrt{\\epsilon_{1} \\overline{\\epsilon_{1}}}} & 0 & 0 & 0 & 0\\\\0 & 0 & 0 & 0 & - \\epsilon_{2} \\overline{\\epsilon_{2}} \\overline{\\frac{1}{\\sqrt{\\epsilon_{2} \\overline{\\epsilon_{2}}}}} - \\frac{\\epsilon_{2} \\overline{\\epsilon_{2}}}{\\sqrt{\\epsilon_{2} \\overline{\\epsilon_{2}}}} & - \\frac{\\Delta_{2} \\epsilon_{2} \\overline{\\epsilon_{2}} \\overline{\\frac{1}{\\sqrt{\\epsilon_{2} \\overline{\\epsilon_{2}}}}}}{\\sqrt{\\epsilon_{2} \\overline{\\epsilon_{2}}}} + \\Delta_{4} & - \\epsilon_{2} \\overline{\\epsilon_{2}} \\overline{\\frac{1}{\\sqrt{\\epsilon_{2} \\overline{\\epsilon_{2}}}}} + \\frac{\\epsilon_{2} \\overline{\\epsilon_{2}}}{\\sqrt{\\epsilon_{2} \\overline{\\epsilon_{2}}}} & \\frac{\\Delta_{2} \\epsilon_{2} \\overline{\\epsilon_{2}} \\overline{\\frac{1}{\\sqrt{\\epsilon_{2} \\overline{\\epsilon_{2}}}}}}{\\sqrt{\\epsilon_{2} \\overline{\\epsilon_{2}}}} + \\Delta_{4}\\\\0 & 0 & 0 & 0 & - \\frac{\\epsilon_{2} \\overline{\\Delta_{2}} \\overline{\\epsilon_{2}} \\overline{\\frac{1}{\\sqrt{\\epsilon_{2} \\overline{\\epsilon_{2}}}}}}{\\sqrt{\\epsilon_{2} \\overline{\\epsilon_{2}}}} + \\overline{\\Delta_{4}} & - \\epsilon_{2} \\overline{\\epsilon_{2}} \\overline{\\frac{1}{\\sqrt{\\epsilon_{2} \\overline{\\epsilon_{2}}}}} - \\frac{\\epsilon_{2} \\overline{\\epsilon_{2}}}{\\sqrt{\\epsilon_{2} \\overline{\\epsilon_{2}}}} & \\frac{\\epsilon_{2} \\overline{\\Delta_{2}} \\overline{\\epsilon_{2}} \\overline{\\frac{1}{\\sqrt{\\epsilon_{2} \\overline{\\epsilon_{2}}}}}}{\\sqrt{\\epsilon_{2} \\overline{\\epsilon_{2}}}} + \\overline{\\Delta_{4}} & - \\epsilon_{2} \\overline{\\epsilon_{2}} \\overline{\\frac{1}{\\sqrt{\\epsilon_{2} \\overline{\\epsilon_{2}}}}} + \\frac{\\epsilon_{2} \\overline{\\epsilon_{2}}}{\\sqrt{\\epsilon_{2} \\overline{\\epsilon_{2}}}}\\\\0 & 0 & 0 & 0 & \\epsilon_{2} \\overline{\\epsilon_{2}} \\overline{\\frac{1}{\\sqrt{\\epsilon_{2} \\overline{\\epsilon_{2}}}}} - \\frac{\\epsilon_{2} \\overline{\\epsilon_{2}}}{\\sqrt{\\epsilon_{2} \\overline{\\epsilon_{2}}}} & \\frac{\\Delta_{2} \\epsilon_{2} \\overline{\\epsilon_{2}} \\overline{\\frac{1}{\\sqrt{\\epsilon_{2} \\overline{\\epsilon_{2}}}}}}{\\sqrt{\\epsilon_{2} \\overline{\\epsilon_{2}}}} + \\Delta_{4} & \\epsilon_{2} \\overline{\\epsilon_{2}} \\overline{\\frac{1}{\\sqrt{\\epsilon_{2} \\overline{\\epsilon_{2}}}}} + \\frac{\\epsilon_{2} \\overline{\\epsilon_{2}}}{\\sqrt{\\epsilon_{2} \\overline{\\epsilon_{2}}}} & - \\frac{\\Delta_{2} \\epsilon_{2} \\overline{\\epsilon_{2}} \\overline{\\frac{1}{\\sqrt{\\epsilon_{2} \\overline{\\epsilon_{2}}}}}}{\\sqrt{\\epsilon_{2} \\overline{\\epsilon_{2}}}} + \\Delta_{4}\\\\0 & 0 & 0 & 0 & \\frac{\\epsilon_{2} \\overline{\\Delta_{2}} \\overline{\\epsilon_{2}} \\overline{\\frac{1}{\\sqrt{\\epsilon_{2} \\overline{\\epsilon_{2}}}}}}{\\sqrt{\\epsilon_{2} \\overline{\\epsilon_{2}}}} + \\overline{\\Delta_{4}} & \\epsilon_{2} \\overline{\\epsilon_{2}} \\overline{\\frac{1}{\\sqrt{\\epsilon_{2} \\overline{\\epsilon_{2}}}}} - \\frac{\\epsilon_{2} \\overline{\\epsilon_{2}}}{\\sqrt{\\epsilon_{2} \\overline{\\epsilon_{2}}}} & - \\frac{\\epsilon_{2} \\overline{\\Delta_{2}} \\overline{\\epsilon_{2}} \\overline{\\frac{1}{\\sqrt{\\epsilon_{2} \\overline{\\epsilon_{2}}}}}}{\\sqrt{\\epsilon_{2} \\overline{\\epsilon_{2}}}} + \\overline{\\Delta_{4}} & \\epsilon_{2} \\overline{\\epsilon_{2}} \\overline{\\frac{1}{\\sqrt{\\epsilon_{2} \\overline{\\epsilon_{2}}}}} + \\frac{\\epsilon_{2} \\overline{\\epsilon_{2}}}{\\sqrt{\\epsilon_{2} \\overline{\\epsilon_{2}}}}\\end{matrix}\\right]$"
      ],
      "text/plain": [
       "Matrix([\n",
       "[       -\\epsilon_1*conjugate(\\epsilon_1)*conjugate(1/sqrt(\\epsilon_1*conjugate(\\epsilon_1))) - \\epsilon_1*conjugate(\\epsilon_1)/sqrt(\\epsilon_1*conjugate(\\epsilon_1)),                -\\Delta_1*\\epsilon_1*conjugate(\\epsilon_1)*conjugate(1/sqrt(\\epsilon_1*conjugate(\\epsilon_1)))/sqrt(\\epsilon_1*conjugate(\\epsilon_1)) + \\Delta_3,        -\\epsilon_1*conjugate(\\epsilon_1)*conjugate(1/sqrt(\\epsilon_1*conjugate(\\epsilon_1))) + \\epsilon_1*conjugate(\\epsilon_1)/sqrt(\\epsilon_1*conjugate(\\epsilon_1)),                 \\Delta_1*\\epsilon_1*conjugate(\\epsilon_1)*conjugate(1/sqrt(\\epsilon_1*conjugate(\\epsilon_1)))/sqrt(\\epsilon_1*conjugate(\\epsilon_1)) + \\Delta_3,                                                                                                                                                                      0,                                                                                                                                                               0,                                                                                                                                                                      0,                                                                                                                                                               0],\n",
       "[-\\epsilon_1*conjugate(\\Delta_1)*conjugate(\\epsilon_1)*conjugate(1/sqrt(\\epsilon_1*conjugate(\\epsilon_1)))/sqrt(\\epsilon_1*conjugate(\\epsilon_1)) + conjugate(\\Delta_3), -\\epsilon_1*conjugate(\\epsilon_1)*conjugate(1/sqrt(\\epsilon_1*conjugate(\\epsilon_1))) - \\epsilon_1*conjugate(\\epsilon_1)/sqrt(\\epsilon_1*conjugate(\\epsilon_1)),  \\epsilon_1*conjugate(\\Delta_1)*conjugate(\\epsilon_1)*conjugate(1/sqrt(\\epsilon_1*conjugate(\\epsilon_1)))/sqrt(\\epsilon_1*conjugate(\\epsilon_1)) + conjugate(\\Delta_3), -\\epsilon_1*conjugate(\\epsilon_1)*conjugate(1/sqrt(\\epsilon_1*conjugate(\\epsilon_1))) + \\epsilon_1*conjugate(\\epsilon_1)/sqrt(\\epsilon_1*conjugate(\\epsilon_1)),                                                                                                                                                                      0,                                                                                                                                                               0,                                                                                                                                                                      0,                                                                                                                                                               0],\n",
       "[        \\epsilon_1*conjugate(\\epsilon_1)*conjugate(1/sqrt(\\epsilon_1*conjugate(\\epsilon_1))) - \\epsilon_1*conjugate(\\epsilon_1)/sqrt(\\epsilon_1*conjugate(\\epsilon_1)),                 \\Delta_1*\\epsilon_1*conjugate(\\epsilon_1)*conjugate(1/sqrt(\\epsilon_1*conjugate(\\epsilon_1)))/sqrt(\\epsilon_1*conjugate(\\epsilon_1)) + \\Delta_3,         \\epsilon_1*conjugate(\\epsilon_1)*conjugate(1/sqrt(\\epsilon_1*conjugate(\\epsilon_1))) + \\epsilon_1*conjugate(\\epsilon_1)/sqrt(\\epsilon_1*conjugate(\\epsilon_1)),                -\\Delta_1*\\epsilon_1*conjugate(\\epsilon_1)*conjugate(1/sqrt(\\epsilon_1*conjugate(\\epsilon_1)))/sqrt(\\epsilon_1*conjugate(\\epsilon_1)) + \\Delta_3,                                                                                                                                                                      0,                                                                                                                                                               0,                                                                                                                                                                      0,                                                                                                                                                               0],\n",
       "[ \\epsilon_1*conjugate(\\Delta_1)*conjugate(\\epsilon_1)*conjugate(1/sqrt(\\epsilon_1*conjugate(\\epsilon_1)))/sqrt(\\epsilon_1*conjugate(\\epsilon_1)) + conjugate(\\Delta_3),  \\epsilon_1*conjugate(\\epsilon_1)*conjugate(1/sqrt(\\epsilon_1*conjugate(\\epsilon_1))) - \\epsilon_1*conjugate(\\epsilon_1)/sqrt(\\epsilon_1*conjugate(\\epsilon_1)), -\\epsilon_1*conjugate(\\Delta_1)*conjugate(\\epsilon_1)*conjugate(1/sqrt(\\epsilon_1*conjugate(\\epsilon_1)))/sqrt(\\epsilon_1*conjugate(\\epsilon_1)) + conjugate(\\Delta_3),  \\epsilon_1*conjugate(\\epsilon_1)*conjugate(1/sqrt(\\epsilon_1*conjugate(\\epsilon_1))) + \\epsilon_1*conjugate(\\epsilon_1)/sqrt(\\epsilon_1*conjugate(\\epsilon_1)),                                                                                                                                                                      0,                                                                                                                                                               0,                                                                                                                                                                      0,                                                                                                                                                               0],\n",
       "[                                                                                                                                                                     0,                                                                                                                                                               0,                                                                                                                                                                      0,                                                                                                                                                               0,        -\\epsilon_2*conjugate(\\epsilon_2)*conjugate(1/sqrt(\\epsilon_2*conjugate(\\epsilon_2))) - \\epsilon_2*conjugate(\\epsilon_2)/sqrt(\\epsilon_2*conjugate(\\epsilon_2)),                -\\Delta_2*\\epsilon_2*conjugate(\\epsilon_2)*conjugate(1/sqrt(\\epsilon_2*conjugate(\\epsilon_2)))/sqrt(\\epsilon_2*conjugate(\\epsilon_2)) + \\Delta_4,        -\\epsilon_2*conjugate(\\epsilon_2)*conjugate(1/sqrt(\\epsilon_2*conjugate(\\epsilon_2))) + \\epsilon_2*conjugate(\\epsilon_2)/sqrt(\\epsilon_2*conjugate(\\epsilon_2)),                 \\Delta_2*\\epsilon_2*conjugate(\\epsilon_2)*conjugate(1/sqrt(\\epsilon_2*conjugate(\\epsilon_2)))/sqrt(\\epsilon_2*conjugate(\\epsilon_2)) + \\Delta_4],\n",
       "[                                                                                                                                                                     0,                                                                                                                                                               0,                                                                                                                                                                      0,                                                                                                                                                               0, -\\epsilon_2*conjugate(\\Delta_2)*conjugate(\\epsilon_2)*conjugate(1/sqrt(\\epsilon_2*conjugate(\\epsilon_2)))/sqrt(\\epsilon_2*conjugate(\\epsilon_2)) + conjugate(\\Delta_4), -\\epsilon_2*conjugate(\\epsilon_2)*conjugate(1/sqrt(\\epsilon_2*conjugate(\\epsilon_2))) - \\epsilon_2*conjugate(\\epsilon_2)/sqrt(\\epsilon_2*conjugate(\\epsilon_2)),  \\epsilon_2*conjugate(\\Delta_2)*conjugate(\\epsilon_2)*conjugate(1/sqrt(\\epsilon_2*conjugate(\\epsilon_2)))/sqrt(\\epsilon_2*conjugate(\\epsilon_2)) + conjugate(\\Delta_4), -\\epsilon_2*conjugate(\\epsilon_2)*conjugate(1/sqrt(\\epsilon_2*conjugate(\\epsilon_2))) + \\epsilon_2*conjugate(\\epsilon_2)/sqrt(\\epsilon_2*conjugate(\\epsilon_2))],\n",
       "[                                                                                                                                                                     0,                                                                                                                                                               0,                                                                                                                                                                      0,                                                                                                                                                               0,         \\epsilon_2*conjugate(\\epsilon_2)*conjugate(1/sqrt(\\epsilon_2*conjugate(\\epsilon_2))) - \\epsilon_2*conjugate(\\epsilon_2)/sqrt(\\epsilon_2*conjugate(\\epsilon_2)),                 \\Delta_2*\\epsilon_2*conjugate(\\epsilon_2)*conjugate(1/sqrt(\\epsilon_2*conjugate(\\epsilon_2)))/sqrt(\\epsilon_2*conjugate(\\epsilon_2)) + \\Delta_4,         \\epsilon_2*conjugate(\\epsilon_2)*conjugate(1/sqrt(\\epsilon_2*conjugate(\\epsilon_2))) + \\epsilon_2*conjugate(\\epsilon_2)/sqrt(\\epsilon_2*conjugate(\\epsilon_2)),                -\\Delta_2*\\epsilon_2*conjugate(\\epsilon_2)*conjugate(1/sqrt(\\epsilon_2*conjugate(\\epsilon_2)))/sqrt(\\epsilon_2*conjugate(\\epsilon_2)) + \\Delta_4],\n",
       "[                                                                                                                                                                     0,                                                                                                                                                               0,                                                                                                                                                                      0,                                                                                                                                                               0,  \\epsilon_2*conjugate(\\Delta_2)*conjugate(\\epsilon_2)*conjugate(1/sqrt(\\epsilon_2*conjugate(\\epsilon_2)))/sqrt(\\epsilon_2*conjugate(\\epsilon_2)) + conjugate(\\Delta_4),  \\epsilon_2*conjugate(\\epsilon_2)*conjugate(1/sqrt(\\epsilon_2*conjugate(\\epsilon_2))) - \\epsilon_2*conjugate(\\epsilon_2)/sqrt(\\epsilon_2*conjugate(\\epsilon_2)), -\\epsilon_2*conjugate(\\Delta_2)*conjugate(\\epsilon_2)*conjugate(1/sqrt(\\epsilon_2*conjugate(\\epsilon_2)))/sqrt(\\epsilon_2*conjugate(\\epsilon_2)) + conjugate(\\Delta_4),  \\epsilon_2*conjugate(\\epsilon_2)*conjugate(1/sqrt(\\epsilon_2*conjugate(\\epsilon_2))) + \\epsilon_2*conjugate(\\epsilon_2)/sqrt(\\epsilon_2*conjugate(\\epsilon_2))]])"
      ]
     },
     "metadata": {},
     "output_type": "display_data"
    }
   ],
   "source": [
    "#Transform full hamiltonian to band basis\n",
    "H_Nambu_transformed = sp.adjoint(U) * H_Nambu * U\n",
    "display(H_Nambu_transformed)"
   ]
  },
  {
   "cell_type": "code",
   "execution_count": null,
   "metadata": {},
   "outputs": [],
   "source": []
  }
 ],
 "metadata": {
  "kernelspec": {
   "display_name": "base",
   "language": "python",
   "name": "python3"
  },
  "language_info": {
   "codemirror_mode": {
    "name": "ipython",
    "version": 3
   },
   "file_extension": ".py",
   "mimetype": "text/x-python",
   "name": "python",
   "nbconvert_exporter": "python",
   "pygments_lexer": "ipython3",
   "version": "3.11.8"
  }
 },
 "nbformat": 4,
 "nbformat_minor": 2
}
