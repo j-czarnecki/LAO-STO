{
   "cells": [
      {
         "cell_type": "code",
         "execution_count": 1,
         "metadata": {},
         "outputs": [],
         "source": [
            "import numpy as np\n",
            "import sympy as sp\n",
            "from sympy.physics.quantum import TensorProduct"
         ]
      },
      {
         "cell_type": "code",
         "execution_count": null,
         "metadata": {},
         "outputs": [
            {
               "data": {
                  "text/latex": [
                     "$\\displaystyle \\left[\\begin{matrix}1 & 1 & 1 & 1 & 1 & 1\\\\1 & 1 & 1 & 1 & -1 & -1\\\\1 & -1 & 1 & -1 & 1 & -1\\\\1 & -1 & 1 & -1 & -1 & 1\\\\2 & 1 & -1 & -2 & 0 & 0\\\\2 & -1 & -1 & 2 & 0 & 0\\end{matrix}\\right]$"
                  ],
                  "text/plain": [
                     "Matrix([\n",
                     "[1,  1,  1,  1,  1,  1],\n",
                     "[1,  1,  1,  1, -1, -1],\n",
                     "[1, -1,  1, -1,  1, -1],\n",
                     "[1, -1,  1, -1, -1,  1],\n",
                     "[2,  1, -1, -2,  0,  0],\n",
                     "[2, -1, -1,  2,  0,  0]])"
                  ]
               },
               "metadata": {},
               "output_type": "display_data"
            }
         ],
         "source": [
            "def project_A1(chiTab, e, c6, c6_inv, c3, c3_inv, c2, s_v1, s_v2, s_v3, s_d1, s_d2, s_d3):\n",
            "  g = sum(dGamma**2 for dGamma in chiTab.col(0))\n",
            "  dGamma = chiTab[0,0]\n",
            "  return dGamma / g * (chiTab[0,0] * e +\n",
            "                       chiTab[0,1] * (c6 + c6_inv) +\n",
            "                       chiTab[0,2] * (c3 + c3_inv) +\n",
            "                       chiTab[0,3] * c2 +\n",
            "                       chiTab[0,4] * (s_v1 + s_v2 + s_v3) +\n",
            "                       chiTab[0,5] * (s_d1 + s_d2 + s_d3))\n",
            "\n",
            "def project_A2(chiTab, e, c6, c6_inv, c3, c3_inv, c2, s_v1, s_v2, s_v3, s_d1, s_d2, s_d3):\n",
            "  g = sum(dGamma**2 for dGamma in chiTab.col(0))\n",
            "  dGamma = chiTab[1,0]\n",
            "  return dGamma / g * (chiTab[1,0] * e +\n",
            "                       chiTab[1,1] * (c6 + c6_inv) +\n",
            "                       chiTab[1,2] * (c3 + c3_inv) +\n",
            "                       chiTab[1,3] * c2 +\n",
            "                       chiTab[1,4] * (s_v1 + s_v2 + s_v3) +\n",
            "                       chiTab[1,5] * (s_d1 + s_d2 + s_d3))\n",
            "\n",
            "def project_B1(chiTab, e, c6, c6_inv, c3, c3_inv, c2, s_v1, s_v2, s_v3, s_d1, s_d2, s_d3):\n",
            "  g = sum(dGamma**2 for dGamma in chiTab.col(0))\n",
            "  dGamma = chiTab[2,0]\n",
            "  return dGamma / g * (chiTab[2,0] * e +\n",
            "                       chiTab[2,1] * (c6 + c6_inv) +\n",
            "                       chiTab[2,2] * (c3 + c3_inv) +\n",
            "                       chiTab[2,3] * c2 +\n",
            "                       chiTab[2,4] * (s_v1 + s_v2 + s_v3) +\n",
            "                       chiTab[2,5] * (s_d1 + s_d2 + s_d3))\n",
            "\n",
            "def project_B2(chiTab, e, c6, c6_inv, c3, c3_inv, c2, s_v1, s_v2, s_v3, s_d1, s_d2, s_d3):\n",
            "  g = sum(dGamma**2 for dGamma in chiTab.col(0))\n",
            "  dGamma = chiTab[3,0]\n",
            "  return dGamma / g * (chiTab[3,0] * e +\n",
            "                       chiTab[3,1] * (c6 + c6_inv) +\n",
            "                       chiTab[3,2] * (c3 + c3_inv) +\n",
            "                       chiTab[3,3] * c2 +\n",
            "                       chiTab[3,4] * (s_v1 + s_v2 + s_v3) +\n",
            "                       chiTab[3,5] * (s_d1 + s_d2 + s_d3))\n",
            "\n",
            "def project_E1(chiTab, e, c6, c6_inv, c3, c3_inv, c2, s_v1, s_v2, s_v3, s_d1, s_d2, s_d3):\n",
            "  g = sum(dGamma**2 for dGamma in chiTab.col(0))\n",
            "  dGamma = chiTab[4,0]\n",
            "  return dGamma / g * (chiTab[4,0] * e +\n",
            "                       chiTab[4,1] * (c6 + c6_inv) +\n",
            "                       chiTab[4,2] * (c3 + c3_inv) +\n",
            "                       chiTab[4,3] * c2 +\n",
            "                       chiTab[4,4] * (s_v1 + s_v2 + s_v3) +\n",
            "                       chiTab[4,5] * (s_d1 + s_d2 + s_d3))\n",
            "\n",
            "def project_E2(chiTab, e, c6, c6_inv, c3, c3_inv, c2, s_v1, s_v2, s_v3, s_d1, s_d2, s_d3):\n",
            "  g = sum(dGamma**2 for dGamma in chiTab.col(0))\n",
            "  dGamma = chiTab[5,0]\n",
            "  return dGamma / g * (chiTab[5,0] * e +\n",
            "                       chiTab[5,1] * (c6 + c6_inv) +\n",
            "                       chiTab[5,2] * (c3 + c3_inv) +\n",
            "                       chiTab[5,3] * c2 +\n",
            "                       chiTab[5,4] * (s_v1 + s_v2 + s_v3) +\n",
            "                       chiTab[5,5] * (s_d1 + s_d2 + s_d3))\n",
            "\n",
            "def diagonalizeProjections(projections, names):\n",
            "  sp.init_printing()\n",
            "  for i, p in enumerate(projections):\n",
            "    p = p.applyfunc(sp.nsimplify)\n",
            "    evecs = p.eigenvects(simplify=True)\n",
            "\n",
            "    print(names[i])\n",
            "    display(evecs)\n",
            "\n",
            "    #Only interested in eigenvalues +-1\n",
            "    for v in evecs:\n",
            "      if np.abs(v[0]) == 1:\n",
            "        #display(v)\n",
            "        for i in range(len(v[2])):\n",
            "          oneIndeces = []\n",
            "          minusOneIndeces = []\n",
            "          for j in range(len(v[2][i])):\n",
            "            if v[2][i][j] == 1:\n",
            "              oneIndeces.append(j)\n",
            "            elif v[2][i][j] == -1:\n",
            "              minusOneIndeces.append(j)\n",
            "          display(f\"indecesPlus = {oneIndeces}\")\n",
            "          display(f\"indecesMinus = {minusOneIndeces}\")\n",
            "      else:\n",
            "        print(\"No matching eigenvalue\")\n",
            "    print(\"------------\")\n",
            "    print(\"\\n\")\n",
            "\n",
            "projectionCallbacks = [project_A1, project_A2, project_B1, project_B2, project_E1, project_E2]\n",
            "names = [\"P_A1\", \"P_A2\", \"P_B1\", \"P_B2\", \"P_E1\", \"P_E2\"]\n",
            "\n",
            "#Character table for C_6v point group\n",
            "chiTabC6v = sp.Matrix([\n",
            "  [1,1,1,1,1,1], #A_1 irrep\n",
            "  [1,1,1,1,-1,-1], #A_2 irrep\n",
            "  [1,-1,1,-1,1,-1], #B_1 irrep\n",
            "  [1,-1,1,-1,-1,1], #B_2 irrep\n",
            "  [2,1,-1,-2,0,0], #E_1 irrep\n",
            "  [2,-1,-1,2,0,0] #E_2 irrep\n",
            "])\n",
            "display(chiTabC6v)"
         ]
      },
      {
         "cell_type": "markdown",
         "metadata": {},
         "source": [
            "# Spatial part"
         ]
      },
      {
         "cell_type": "code",
         "execution_count": 3,
         "metadata": {},
         "outputs": [
            {
               "name": "stdout",
               "output_type": "stream",
               "text": [
                  "P_A1\n",
                  "No matching eigenvalue\n"
               ]
            },
            {
               "data": {
                  "image/png": "[encoded data removed]",
                  "text/latex": [
                     "$\\displaystyle \\left( 1, \\  1, \\  \\left[ \\left[\\begin{matrix}1\\\\1\\\\1\\\\1\\\\1\\\\1\\end{matrix}\\right]\\right]\\right)$"
                  ],
                  "text/plain": [
                     "⎛      ⎡⎡1⎤⎤⎞\n",
                     "⎜      ⎢⎢ ⎥⎥⎟\n",
                     "⎜      ⎢⎢1⎥⎥⎟\n",
                     "⎜      ⎢⎢ ⎥⎥⎟\n",
                     "⎜      ⎢⎢1⎥⎥⎟\n",
                     "⎜1, 1, ⎢⎢ ⎥⎥⎟\n",
                     "⎜      ⎢⎢1⎥⎥⎟\n",
                     "⎜      ⎢⎢ ⎥⎥⎟\n",
                     "⎜      ⎢⎢1⎥⎥⎟\n",
                     "⎜      ⎢⎢ ⎥⎥⎟\n",
                     "⎝      ⎣⎣1⎦⎦⎠"
                  ]
               },
               "metadata": {},
               "output_type": "display_data"
            },
            {
               "data": {
                  "text/plain": [
                     "'indecesPlus = [0, 1, 2, 3, 4, 5]'"
                  ]
               },
               "metadata": {},
               "output_type": "display_data"
            },
            {
               "data": {
                  "text/plain": [
                     "'indecesMinus = []'"
                  ]
               },
               "metadata": {},
               "output_type": "display_data"
            },
            {
               "name": "stdout",
               "output_type": "stream",
               "text": [
                  "------------\n",
                  "\n",
                  "\n",
                  "P_A2\n",
                  "No matching eigenvalue\n",
                  "------------\n",
                  "\n",
                  "\n",
                  "P_B1\n",
                  "No matching eigenvalue\n"
               ]
            },
            {
               "data": {
                  "image/png": "[encoded data removed]",
                  "text/latex": [
                     "$\\displaystyle \\left( 1, \\  1, \\  \\left[ \\left[\\begin{matrix}-1\\\\1\\\\-1\\\\1\\\\-1\\\\1\\end{matrix}\\right]\\right]\\right)$"
                  ],
                  "text/plain": [
                     "⎛      ⎡⎡-1⎤⎤⎞\n",
                     "⎜      ⎢⎢  ⎥⎥⎟\n",
                     "⎜      ⎢⎢1 ⎥⎥⎟\n",
                     "⎜      ⎢⎢  ⎥⎥⎟\n",
                     "⎜      ⎢⎢-1⎥⎥⎟\n",
                     "⎜1, 1, ⎢⎢  ⎥⎥⎟\n",
                     "⎜      ⎢⎢1 ⎥⎥⎟\n",
                     "⎜      ⎢⎢  ⎥⎥⎟\n",
                     "⎜      ⎢⎢-1⎥⎥⎟\n",
                     "⎜      ⎢⎢  ⎥⎥⎟\n",
                     "⎝      ⎣⎣1 ⎦⎦⎠"
                  ]
               },
               "metadata": {},
               "output_type": "display_data"
            },
            {
               "data": {
                  "text/plain": [
                     "'indecesPlus = [1, 3, 5]'"
                  ]
               },
               "metadata": {},
               "output_type": "display_data"
            },
            {
               "data": {
                  "text/plain": [
                     "'indecesMinus = [0, 2, 4]'"
                  ]
               },
               "metadata": {},
               "output_type": "display_data"
            },
            {
               "name": "stdout",
               "output_type": "stream",
               "text": [
                  "------------\n",
                  "\n",
                  "\n",
                  "P_B2\n",
                  "No matching eigenvalue\n",
                  "------------\n",
                  "\n",
                  "\n",
                  "P_E1\n",
                  "No matching eigenvalue\n"
               ]
            },
            {
               "data": {
                  "image/png": "[encoded data removed]",
                  "text/latex": [
                     "$\\displaystyle \\left( 1, \\  2, \\  \\left[ \\left[\\begin{matrix}-1\\\\-1\\\\0\\\\1\\\\1\\\\0\\end{matrix}\\right], \\  \\left[\\begin{matrix}1\\\\0\\\\-1\\\\-1\\\\0\\\\1\\end{matrix}\\right]\\right]\\right)$"
                  ],
                  "text/plain": [
                     "⎛      ⎡⎡-1⎤  ⎡1 ⎤⎤⎞\n",
                     "⎜      ⎢⎢  ⎥  ⎢  ⎥⎥⎟\n",
                     "⎜      ⎢⎢-1⎥  ⎢0 ⎥⎥⎟\n",
                     "⎜      ⎢⎢  ⎥  ⎢  ⎥⎥⎟\n",
                     "⎜      ⎢⎢0 ⎥  ⎢-1⎥⎥⎟\n",
                     "⎜1, 2, ⎢⎢  ⎥, ⎢  ⎥⎥⎟\n",
                     "⎜      ⎢⎢1 ⎥  ⎢-1⎥⎥⎟\n",
                     "⎜      ⎢⎢  ⎥  ⎢  ⎥⎥⎟\n",
                     "⎜      ⎢⎢1 ⎥  ⎢0 ⎥⎥⎟\n",
                     "⎜      ⎢⎢  ⎥  ⎢  ⎥⎥⎟\n",
                     "⎝      ⎣⎣0 ⎦  ⎣1 ⎦⎦⎠"
                  ]
               },
               "metadata": {},
               "output_type": "display_data"
            },
            {
               "data": {
                  "text/plain": [
                     "'indecesPlus = [3, 4]'"
                  ]
               },
               "metadata": {},
               "output_type": "display_data"
            },
            {
               "data": {
                  "text/plain": [
                     "'indecesMinus = [0, 1]'"
                  ]
               },
               "metadata": {},
               "output_type": "display_data"
            },
            {
               "data": {
                  "text/plain": [
                     "'indecesPlus = [0, 5]'"
                  ]
               },
               "metadata": {},
               "output_type": "display_data"
            },
            {
               "data": {
                  "text/plain": [
                     "'indecesMinus = [2, 3]'"
                  ]
               },
               "metadata": {},
               "output_type": "display_data"
            },
            {
               "name": "stdout",
               "output_type": "stream",
               "text": [
                  "------------\n",
                  "\n",
                  "\n",
                  "P_E2\n",
                  "No matching eigenvalue\n"
               ]
            },
            {
               "data": {
                  "image/png": "[encoded data removed]",
                  "text/latex": [
                     "$\\displaystyle \\left( 1, \\  2, \\  \\left[ \\left[\\begin{matrix}-1\\\\1\\\\0\\\\-1\\\\1\\\\0\\end{matrix}\\right], \\  \\left[\\begin{matrix}-1\\\\0\\\\1\\\\-1\\\\0\\\\1\\end{matrix}\\right]\\right]\\right)$"
                  ],
                  "text/plain": [
                     "⎛      ⎡⎡-1⎤  ⎡-1⎤⎤⎞\n",
                     "⎜      ⎢⎢  ⎥  ⎢  ⎥⎥⎟\n",
                     "⎜      ⎢⎢1 ⎥  ⎢0 ⎥⎥⎟\n",
                     "⎜      ⎢⎢  ⎥  ⎢  ⎥⎥⎟\n",
                     "⎜      ⎢⎢0 ⎥  ⎢1 ⎥⎥⎟\n",
                     "⎜1, 2, ⎢⎢  ⎥, ⎢  ⎥⎥⎟\n",
                     "⎜      ⎢⎢-1⎥  ⎢-1⎥⎥⎟\n",
                     "⎜      ⎢⎢  ⎥  ⎢  ⎥⎥⎟\n",
                     "⎜      ⎢⎢1 ⎥  ⎢0 ⎥⎥⎟\n",
                     "⎜      ⎢⎢  ⎥  ⎢  ⎥⎥⎟\n",
                     "⎝      ⎣⎣0 ⎦  ⎣1 ⎦⎦⎠"
                  ]
               },
               "metadata": {},
               "output_type": "display_data"
            },
            {
               "data": {
                  "text/plain": [
                     "'indecesPlus = [1, 4]'"
                  ]
               },
               "metadata": {},
               "output_type": "display_data"
            },
            {
               "data": {
                  "text/plain": [
                     "'indecesMinus = [0, 3]'"
                  ]
               },
               "metadata": {},
               "output_type": "display_data"
            },
            {
               "data": {
                  "text/plain": [
                     "'indecesPlus = [2, 5]'"
                  ]
               },
               "metadata": {},
               "output_type": "display_data"
            },
            {
               "data": {
                  "text/plain": [
                     "'indecesMinus = [0, 3]'"
                  ]
               },
               "metadata": {},
               "output_type": "display_data"
            },
            {
               "name": "stdout",
               "output_type": "stream",
               "text": [
                  "------------\n",
                  "\n",
                  "\n",
                  "P_A1\n",
                  "P_A2\n",
                  "P_B1\n",
                  "P_B2\n",
                  "P_E1\n",
                  "P_E2\n"
               ]
            }
         ],
         "source": [
            "#Generators\n",
            "c6 = sp.Matrix([[0, 1, 0, 0, 0, 0 ], [0,0,1,0,0,0], [0,0,0,1,0,0], [0,0,0,0,1,0], [0,0,0,0,0,1], [1,0,0,0,0,0]])\n",
            "s_v1 = sp.Matrix([[1, 0, 0, 0, 0, 0 ], [0,0,0,0,0,1], [0,0,0,0,1,0], [0,0,0,1,0,0], [0,0,1,0,0,0], [0,1,0,0,0,0]])\n",
            "s_d1 = sp.Matrix([[0, 1, 0, 0, 0, 0 ], [1,0,0,0,0,0], [0,0,0,0,0,1], [0,0,0,0,1,0], [0,0,0,1,0,0], [0,0,1,0,0,0]])\n",
            "\n",
            "#Derived from generators\n",
            "c6_inv = c6.inv()\n",
            "\n",
            "c3 = c6**2\n",
            "c3_inv = c3.inv()\n",
            "\n",
            "c2 = c6**3\n",
            "\n",
            "s_v2 = c6_inv * s_v1 * c6\n",
            "s_v3 = c3_inv * s_v1 * c3\n",
            "\n",
            "s_d2 = c6_inv * s_d1 * c6\n",
            "s_d3 = c3_inv * s_d1 * c3\n",
            "\n",
            "\n",
            "projections = []\n",
            "dim = 6\n",
            "e = sp.eye(dim)\n",
            "for i, proj in enumerate(projectionCallbacks):\n",
            "  projections.append(proj(chiTabC6v, e, c6, c6_inv, c3, c3_inv, c2, s_v1, s_v2, s_v3, s_d1, s_d2, s_d3))\n",
            "\n",
            "diagonalizeProjections(projections, names)\n",
            "for i, proj in enumerate(projections):\n",
            "  print(f\"{names[i]}\")\n",
            "  #display(proj * proj - proj) # Should give 0 operator"
         ]
      },
      {
         "cell_type": "markdown",
         "metadata": {},
         "source": [
            "# Orbital part"
         ]
      },
      {
         "cell_type": "code",
         "execution_count": 4,
         "metadata": {},
         "outputs": [
            {
               "name": "stdout",
               "output_type": "stream",
               "text": [
                  "P_A1\n",
                  "No matching eigenvalue\n"
               ]
            },
            {
               "data": {
                  "image/png": "[encoded data removed]",
                  "text/latex": [
                     "$\\displaystyle \\left( 1, \\  1, \\  \\left[ \\left[\\begin{matrix}1\\\\1\\\\1\\end{matrix}\\right]\\right]\\right)$"
                  ],
                  "text/plain": [
                     "⎛      ⎡⎡1⎤⎤⎞\n",
                     "⎜      ⎢⎢ ⎥⎥⎟\n",
                     "⎜1, 1, ⎢⎢1⎥⎥⎟\n",
                     "⎜      ⎢⎢ ⎥⎥⎟\n",
                     "⎝      ⎣⎣1⎦⎦⎠"
                  ]
               },
               "metadata": {},
               "output_type": "display_data"
            },
            {
               "data": {
                  "text/plain": [
                     "'indecesPlus = [0, 1, 2]'"
                  ]
               },
               "metadata": {},
               "output_type": "display_data"
            },
            {
               "data": {
                  "text/plain": [
                     "'indecesMinus = []'"
                  ]
               },
               "metadata": {},
               "output_type": "display_data"
            },
            {
               "name": "stdout",
               "output_type": "stream",
               "text": [
                  "------------\n",
                  "\n",
                  "\n",
                  "P_A2\n",
                  "No matching eigenvalue\n",
                  "------------\n",
                  "\n",
                  "\n",
                  "P_B1\n",
                  "No matching eigenvalue\n",
                  "------------\n",
                  "\n",
                  "\n",
                  "P_B2\n",
                  "No matching eigenvalue\n",
                  "------------\n",
                  "\n",
                  "\n",
                  "P_E1\n",
                  "No matching eigenvalue\n",
                  "------------\n",
                  "\n",
                  "\n",
                  "P_E2\n",
                  "No matching eigenvalue\n"
               ]
            },
            {
               "data": {
                  "image/png": "[encoded data removed]",
                  "text/latex": [
                     "$\\displaystyle \\left( 1, \\  2, \\  \\left[ \\left[\\begin{matrix}-1\\\\1\\\\0\\end{matrix}\\right], \\  \\left[\\begin{matrix}-1\\\\0\\\\1\\end{matrix}\\right]\\right]\\right)$"
                  ],
                  "text/plain": [
                     "⎛      ⎡⎡-1⎤  ⎡-1⎤⎤⎞\n",
                     "⎜      ⎢⎢  ⎥  ⎢  ⎥⎥⎟\n",
                     "⎜1, 2, ⎢⎢1 ⎥, ⎢0 ⎥⎥⎟\n",
                     "⎜      ⎢⎢  ⎥  ⎢  ⎥⎥⎟\n",
                     "⎝      ⎣⎣0 ⎦  ⎣1 ⎦⎦⎠"
                  ]
               },
               "metadata": {},
               "output_type": "display_data"
            },
            {
               "data": {
                  "text/plain": [
                     "'indecesPlus = [1]'"
                  ]
               },
               "metadata": {},
               "output_type": "display_data"
            },
            {
               "data": {
                  "text/plain": [
                     "'indecesMinus = [0]'"
                  ]
               },
               "metadata": {},
               "output_type": "display_data"
            },
            {
               "data": {
                  "text/plain": [
                     "'indecesPlus = [2]'"
                  ]
               },
               "metadata": {},
               "output_type": "display_data"
            },
            {
               "data": {
                  "text/plain": [
                     "'indecesMinus = [0]'"
                  ]
               },
               "metadata": {},
               "output_type": "display_data"
            },
            {
               "name": "stdout",
               "output_type": "stream",
               "text": [
                  "------------\n",
                  "\n",
                  "\n"
               ]
            }
         ],
         "source": [
            "#Generators\n",
            "c6_orb = sp.Matrix([[0,0,1], [1,0,0], [0,1,0]])\n",
            "s_v1_orb = sp.Matrix([[0,1,0], [1,0,0], [0,0,1]])\n",
            "s_d1_orb = sp.Matrix([[1,0,0], [0,0,1], [0,1,0]])\n",
            "\n",
            "#Derived from generators\n",
            "c6_inv_orb = c6_orb.inv()\n",
            "\n",
            "c3_orb = c6_orb**2\n",
            "c3_inv_orb = c3_orb.inv()\n",
            "\n",
            "c2_orb = c6_orb**3\n",
            "\n",
            "s_v2_orb = c6_inv_orb * s_v1_orb * c6_orb\n",
            "s_v3_orb = c3_inv_orb * s_v1_orb * c3_orb\n",
            "\n",
            "s_d2_orb = c6_inv_orb * s_d1_orb * c6_orb\n",
            "s_d3_orb = c3_inv_orb * s_d1_orb * c3_orb\n",
            "\n",
            "\n",
            "projections = []\n",
            "dim = 3\n",
            "e = sp.eye(dim)\n",
            "for i, proj in enumerate(projectionCallbacks):\n",
            "  projections.append(proj(chiTabC6v, e, c6_orb, c6_inv_orb, c3_orb, c3_inv_orb, c2_orb, s_v1_orb, s_v2_orb, s_v3_orb, s_d1_orb, s_d2_orb, s_d3_orb))\n",
            "\n",
            "diagonalizeProjections(projections, names)\n",
            "# for i, proj in enumerate(projections):\n",
            "#   print(f\"{names[i]}\")\n",
            "#   display(proj * proj - proj) # Should give 0 operator\n",
            "#   display(proj.trace())\n"
         ]
      },
      {
         "cell_type": "markdown",
         "metadata": {},
         "source": [
            "# Calculate tensor products of representations $R^{orbital}(g) \\otimes R^{spatial}(g)$"
         ]
      },
      {
         "cell_type": "code",
         "execution_count": 5,
         "metadata": {},
         "outputs": [
            {
               "name": "stdout",
               "output_type": "stream",
               "text": [
                  "P_A1\n",
                  "No matching eigenvalue\n"
               ]
            },
            {
               "data": {
                  "image/png": "[encoded data removed]",
                  "text/latex": [
                     "$\\displaystyle \\left( 1, \\  2, \\  \\left[ \\left[\\begin{matrix}0\\\\0\\\\1\\\\0\\\\0\\\\1\\\\0\\\\1\\\\0\\\\0\\\\1\\\\0\\\\1\\\\0\\\\0\\\\1\\\\0\\\\0\\end{matrix}\\right], \\  \\left[\\begin{matrix}1\\\\1\\\\0\\\\1\\\\1\\\\0\\\\1\\\\0\\\\1\\\\1\\\\0\\\\1\\\\0\\\\1\\\\1\\\\0\\\\1\\\\1\\end{matrix}\\right]\\right]\\right)$"
                  ],
                  "text/plain": [
                     "⎛      ⎡⎡0⎤  ⎡1⎤⎤⎞\n",
                     "⎜      ⎢⎢ ⎥  ⎢ ⎥⎥⎟\n",
                     "⎜      ⎢⎢0⎥  ⎢1⎥⎥⎟\n",
                     "⎜      ⎢⎢ ⎥  ⎢ ⎥⎥⎟\n",
                     "⎜      ⎢⎢1⎥  ⎢0⎥⎥⎟\n",
                     "⎜      ⎢⎢ ⎥  ⎢ ⎥⎥⎟\n",
                     "⎜      ⎢⎢0⎥  ⎢1⎥⎥⎟\n",
                     "⎜      ⎢⎢ ⎥  ⎢ ⎥⎥⎟\n",
                     "⎜      ⎢⎢0⎥  ⎢1⎥⎥⎟\n",
                     "⎜      ⎢⎢ ⎥  ⎢ ⎥⎥⎟\n",
                     "⎜      ⎢⎢1⎥  ⎢0⎥⎥⎟\n",
                     "⎜      ⎢⎢ ⎥  ⎢ ⎥⎥⎟\n",
                     "⎜      ⎢⎢0⎥  ⎢1⎥⎥⎟\n",
                     "⎜      ⎢⎢ ⎥  ⎢ ⎥⎥⎟\n",
                     "⎜      ⎢⎢1⎥  ⎢0⎥⎥⎟\n",
                     "⎜      ⎢⎢ ⎥  ⎢ ⎥⎥⎟\n",
                     "⎜      ⎢⎢0⎥  ⎢1⎥⎥⎟\n",
                     "⎜1, 2, ⎢⎢ ⎥, ⎢ ⎥⎥⎟\n",
                     "⎜      ⎢⎢0⎥  ⎢1⎥⎥⎟\n",
                     "⎜      ⎢⎢ ⎥  ⎢ ⎥⎥⎟\n",
                     "⎜      ⎢⎢1⎥  ⎢0⎥⎥⎟\n",
                     "⎜      ⎢⎢ ⎥  ⎢ ⎥⎥⎟\n",
                     "⎜      ⎢⎢0⎥  ⎢1⎥⎥⎟\n",
                     "⎜      ⎢⎢ ⎥  ⎢ ⎥⎥⎟\n",
                     "⎜      ⎢⎢1⎥  ⎢0⎥⎥⎟\n",
                     "⎜      ⎢⎢ ⎥  ⎢ ⎥⎥⎟\n",
                     "⎜      ⎢⎢0⎥  ⎢1⎥⎥⎟\n",
                     "⎜      ⎢⎢ ⎥  ⎢ ⎥⎥⎟\n",
                     "⎜      ⎢⎢0⎥  ⎢1⎥⎥⎟\n",
                     "⎜      ⎢⎢ ⎥  ⎢ ⎥⎥⎟\n",
                     "⎜      ⎢⎢1⎥  ⎢0⎥⎥⎟\n",
                     "⎜      ⎢⎢ ⎥  ⎢ ⎥⎥⎟\n",
                     "⎜      ⎢⎢0⎥  ⎢1⎥⎥⎟\n",
                     "⎜      ⎢⎢ ⎥  ⎢ ⎥⎥⎟\n",
                     "⎝      ⎣⎣0⎦  ⎣1⎦⎦⎠"
                  ]
               },
               "metadata": {},
               "output_type": "display_data"
            },
            {
               "data": {
                  "text/plain": [
                     "'indecesPlus = [2, 5, 7, 10, 12, 15]'"
                  ]
               },
               "metadata": {},
               "output_type": "display_data"
            },
            {
               "data": {
                  "text/plain": [
                     "'indecesMinus = []'"
                  ]
               },
               "metadata": {},
               "output_type": "display_data"
            },
            {
               "data": {
                  "text/plain": [
                     "'indecesPlus = [0, 1, 3, 4, 6, 8, 9, 11, 13, 14, 16, 17]'"
                  ]
               },
               "metadata": {},
               "output_type": "display_data"
            },
            {
               "data": {
                  "text/plain": [
                     "'indecesMinus = []'"
                  ]
               },
               "metadata": {},
               "output_type": "display_data"
            },
            {
               "name": "stdout",
               "output_type": "stream",
               "text": [
                  "------------\n",
                  "\n",
                  "\n",
                  "P_A2\n",
                  "No matching eigenvalue\n"
               ]
            },
            {
               "data": {
                  "image/png": "[encoded data removed]",
                  "text/latex": [
                     "$\\displaystyle \\left( 1, \\  1, \\  \\left[ \\left[\\begin{matrix}-1\\\\1\\\\0\\\\-1\\\\1\\\\0\\\\1\\\\0\\\\-1\\\\1\\\\0\\\\-1\\\\0\\\\-1\\\\1\\\\0\\\\-1\\\\1\\end{matrix}\\right]\\right]\\right)$"
                  ],
                  "text/plain": [
                     "⎛      ⎡⎡-1⎤⎤⎞\n",
                     "⎜      ⎢⎢  ⎥⎥⎟\n",
                     "⎜      ⎢⎢1 ⎥⎥⎟\n",
                     "⎜      ⎢⎢  ⎥⎥⎟\n",
                     "⎜      ⎢⎢0 ⎥⎥⎟\n",
                     "⎜      ⎢⎢  ⎥⎥⎟\n",
                     "⎜      ⎢⎢-1⎥⎥⎟\n",
                     "⎜      ⎢⎢  ⎥⎥⎟\n",
                     "⎜      ⎢⎢1 ⎥⎥⎟\n",
                     "⎜      ⎢⎢  ⎥⎥⎟\n",
                     "⎜      ⎢⎢0 ⎥⎥⎟\n",
                     "⎜      ⎢⎢  ⎥⎥⎟\n",
                     "⎜      ⎢⎢1 ⎥⎥⎟\n",
                     "⎜      ⎢⎢  ⎥⎥⎟\n",
                     "⎜      ⎢⎢0 ⎥⎥⎟\n",
                     "⎜      ⎢⎢  ⎥⎥⎟\n",
                     "⎜      ⎢⎢-1⎥⎥⎟\n",
                     "⎜1, 1, ⎢⎢  ⎥⎥⎟\n",
                     "⎜      ⎢⎢1 ⎥⎥⎟\n",
                     "⎜      ⎢⎢  ⎥⎥⎟\n",
                     "⎜      ⎢⎢0 ⎥⎥⎟\n",
                     "⎜      ⎢⎢  ⎥⎥⎟\n",
                     "⎜      ⎢⎢-1⎥⎥⎟\n",
                     "⎜      ⎢⎢  ⎥⎥⎟\n",
                     "⎜      ⎢⎢0 ⎥⎥⎟\n",
                     "⎜      ⎢⎢  ⎥⎥⎟\n",
                     "⎜      ⎢⎢-1⎥⎥⎟\n",
                     "⎜      ⎢⎢  ⎥⎥⎟\n",
                     "⎜      ⎢⎢1 ⎥⎥⎟\n",
                     "⎜      ⎢⎢  ⎥⎥⎟\n",
                     "⎜      ⎢⎢0 ⎥⎥⎟\n",
                     "⎜      ⎢⎢  ⎥⎥⎟\n",
                     "⎜      ⎢⎢-1⎥⎥⎟\n",
                     "⎜      ⎢⎢  ⎥⎥⎟\n",
                     "⎝      ⎣⎣1 ⎦⎦⎠"
                  ]
               },
               "metadata": {},
               "output_type": "display_data"
            },
            {
               "data": {
                  "text/plain": [
                     "'indecesPlus = [1, 4, 6, 9, 14, 17]'"
                  ]
               },
               "metadata": {},
               "output_type": "display_data"
            },
            {
               "data": {
                  "text/plain": [
                     "'indecesMinus = [0, 3, 8, 11, 13, 16]'"
                  ]
               },
               "metadata": {},
               "output_type": "display_data"
            },
            {
               "name": "stdout",
               "output_type": "stream",
               "text": [
                  "------------\n",
                  "\n",
                  "\n",
                  "P_B1\n",
                  "No matching eigenvalue\n"
               ]
            },
            {
               "data": {
                  "image/png": "[encoded data removed]",
                  "text/latex": [
                     "$\\displaystyle \\left( 1, \\  2, \\  \\left[ \\left[\\begin{matrix}0\\\\0\\\\-1\\\\0\\\\0\\\\1\\\\0\\\\1\\\\0\\\\0\\\\-1\\\\0\\\\-1\\\\0\\\\0\\\\1\\\\0\\\\0\\end{matrix}\\right], \\  \\left[\\begin{matrix}-1\\\\1\\\\0\\\\1\\\\-1\\\\0\\\\-1\\\\0\\\\-1\\\\1\\\\0\\\\1\\\\0\\\\1\\\\-1\\\\0\\\\-1\\\\1\\end{matrix}\\right]\\right]\\right)$"
                  ],
                  "text/plain": [
                     "⎛      ⎡⎡0 ⎤  ⎡-1⎤⎤⎞\n",
                     "⎜      ⎢⎢  ⎥  ⎢  ⎥⎥⎟\n",
                     "⎜      ⎢⎢0 ⎥  ⎢1 ⎥⎥⎟\n",
                     "⎜      ⎢⎢  ⎥  ⎢  ⎥⎥⎟\n",
                     "⎜      ⎢⎢-1⎥  ⎢0 ⎥⎥⎟\n",
                     "⎜      ⎢⎢  ⎥  ⎢  ⎥⎥⎟\n",
                     "⎜      ⎢⎢0 ⎥  ⎢1 ⎥⎥⎟\n",
                     "⎜      ⎢⎢  ⎥  ⎢  ⎥⎥⎟\n",
                     "⎜      ⎢⎢0 ⎥  ⎢-1⎥⎥⎟\n",
                     "⎜      ⎢⎢  ⎥  ⎢  ⎥⎥⎟\n",
                     "⎜      ⎢⎢1 ⎥  ⎢0 ⎥⎥⎟\n",
                     "⎜      ⎢⎢  ⎥  ⎢  ⎥⎥⎟\n",
                     "⎜      ⎢⎢0 ⎥  ⎢-1⎥⎥⎟\n",
                     "⎜      ⎢⎢  ⎥  ⎢  ⎥⎥⎟\n",
                     "⎜      ⎢⎢1 ⎥  ⎢0 ⎥⎥⎟\n",
                     "⎜      ⎢⎢  ⎥  ⎢  ⎥⎥⎟\n",
                     "⎜      ⎢⎢0 ⎥  ⎢-1⎥⎥⎟\n",
                     "⎜1, 2, ⎢⎢  ⎥, ⎢  ⎥⎥⎟\n",
                     "⎜      ⎢⎢0 ⎥  ⎢1 ⎥⎥⎟\n",
                     "⎜      ⎢⎢  ⎥  ⎢  ⎥⎥⎟\n",
                     "⎜      ⎢⎢-1⎥  ⎢0 ⎥⎥⎟\n",
                     "⎜      ⎢⎢  ⎥  ⎢  ⎥⎥⎟\n",
                     "⎜      ⎢⎢0 ⎥  ⎢1 ⎥⎥⎟\n",
                     "⎜      ⎢⎢  ⎥  ⎢  ⎥⎥⎟\n",
                     "⎜      ⎢⎢-1⎥  ⎢0 ⎥⎥⎟\n",
                     "⎜      ⎢⎢  ⎥  ⎢  ⎥⎥⎟\n",
                     "⎜      ⎢⎢0 ⎥  ⎢1 ⎥⎥⎟\n",
                     "⎜      ⎢⎢  ⎥  ⎢  ⎥⎥⎟\n",
                     "⎜      ⎢⎢0 ⎥  ⎢-1⎥⎥⎟\n",
                     "⎜      ⎢⎢  ⎥  ⎢  ⎥⎥⎟\n",
                     "⎜      ⎢⎢1 ⎥  ⎢0 ⎥⎥⎟\n",
                     "⎜      ⎢⎢  ⎥  ⎢  ⎥⎥⎟\n",
                     "⎜      ⎢⎢0 ⎥  ⎢-1⎥⎥⎟\n",
                     "⎜      ⎢⎢  ⎥  ⎢  ⎥⎥⎟\n",
                     "⎝      ⎣⎣0 ⎦  ⎣1 ⎦⎦⎠"
                  ]
               },
               "metadata": {},
               "output_type": "display_data"
            },
            {
               "data": {
                  "text/plain": [
                     "'indecesPlus = [5, 7, 15]'"
                  ]
               },
               "metadata": {},
               "output_type": "display_data"
            },
            {
               "data": {
                  "text/plain": [
                     "'indecesMinus = [2, 10, 12]'"
                  ]
               },
               "metadata": {},
               "output_type": "display_data"
            },
            {
               "data": {
                  "text/plain": [
                     "'indecesPlus = [1, 3, 9, 11, 13, 17]'"
                  ]
               },
               "metadata": {},
               "output_type": "display_data"
            },
            {
               "data": {
                  "text/plain": [
                     "'indecesMinus = [0, 4, 6, 8, 14, 16]'"
                  ]
               },
               "metadata": {},
               "output_type": "display_data"
            },
            {
               "name": "stdout",
               "output_type": "stream",
               "text": [
                  "------------\n",
                  "\n",
                  "\n",
                  "P_B2\n",
                  "No matching eigenvalue\n"
               ]
            },
            {
               "data": {
                  "image/png": "[encoded data removed]",
                  "text/latex": [
                     "$\\displaystyle \\left( 1, \\  1, \\  \\left[ \\left[\\begin{matrix}1\\\\1\\\\0\\\\-1\\\\-1\\\\0\\\\-1\\\\0\\\\1\\\\1\\\\0\\\\-1\\\\0\\\\-1\\\\-1\\\\0\\\\1\\\\1\\end{matrix}\\right]\\right]\\right)$"
                  ],
                  "text/plain": [
                     "⎛      ⎡⎡1 ⎤⎤⎞\n",
                     "⎜      ⎢⎢  ⎥⎥⎟\n",
                     "⎜      ⎢⎢1 ⎥⎥⎟\n",
                     "⎜      ⎢⎢  ⎥⎥⎟\n",
                     "⎜      ⎢⎢0 ⎥⎥⎟\n",
                     "⎜      ⎢⎢  ⎥⎥⎟\n",
                     "⎜      ⎢⎢-1⎥⎥⎟\n",
                     "⎜      ⎢⎢  ⎥⎥⎟\n",
                     "⎜      ⎢⎢-1⎥⎥⎟\n",
                     "⎜      ⎢⎢  ⎥⎥⎟\n",
                     "⎜      ⎢⎢0 ⎥⎥⎟\n",
                     "⎜      ⎢⎢  ⎥⎥⎟\n",
                     "⎜      ⎢⎢-1⎥⎥⎟\n",
                     "⎜      ⎢⎢  ⎥⎥⎟\n",
                     "⎜      ⎢⎢0 ⎥⎥⎟\n",
                     "⎜      ⎢⎢  ⎥⎥⎟\n",
                     "⎜      ⎢⎢1 ⎥⎥⎟\n",
                     "⎜1, 1, ⎢⎢  ⎥⎥⎟\n",
                     "⎜      ⎢⎢1 ⎥⎥⎟\n",
                     "⎜      ⎢⎢  ⎥⎥⎟\n",
                     "⎜      ⎢⎢0 ⎥⎥⎟\n",
                     "⎜      ⎢⎢  ⎥⎥⎟\n",
                     "⎜      ⎢⎢-1⎥⎥⎟\n",
                     "⎜      ⎢⎢  ⎥⎥⎟\n",
                     "⎜      ⎢⎢0 ⎥⎥⎟\n",
                     "⎜      ⎢⎢  ⎥⎥⎟\n",
                     "⎜      ⎢⎢-1⎥⎥⎟\n",
                     "⎜      ⎢⎢  ⎥⎥⎟\n",
                     "⎜      ⎢⎢-1⎥⎥⎟\n",
                     "⎜      ⎢⎢  ⎥⎥⎟\n",
                     "⎜      ⎢⎢0 ⎥⎥⎟\n",
                     "⎜      ⎢⎢  ⎥⎥⎟\n",
                     "⎜      ⎢⎢1 ⎥⎥⎟\n",
                     "⎜      ⎢⎢  ⎥⎥⎟\n",
                     "⎝      ⎣⎣1 ⎦⎦⎠"
                  ]
               },
               "metadata": {},
               "output_type": "display_data"
            },
            {
               "data": {
                  "text/plain": [
                     "'indecesPlus = [0, 1, 8, 9, 16, 17]'"
                  ]
               },
               "metadata": {},
               "output_type": "display_data"
            },
            {
               "data": {
                  "text/plain": [
                     "'indecesMinus = [3, 4, 6, 11, 13, 14]'"
                  ]
               },
               "metadata": {},
               "output_type": "display_data"
            },
            {
               "name": "stdout",
               "output_type": "stream",
               "text": [
                  "------------\n",
                  "\n",
                  "\n",
                  "P_E1\n",
                  "No matching eigenvalue\n"
               ]
            },
            {
               "data": {
                  "image/png": "[encoded data removed]",
                  "text/latex": [
                     "$\\displaystyle \\left( 1, \\  6, \\  \\left[ \\left[\\begin{matrix}0\\\\-1\\\\0\\\\0\\\\1\\\\0\\\\-1\\\\0\\\\0\\\\1\\\\0\\\\0\\\\0\\\\0\\\\0\\\\0\\\\0\\\\0\\end{matrix}\\right], \\  \\left[\\begin{matrix}0\\\\0\\\\-1\\\\0\\\\0\\\\1\\\\0\\\\-1\\\\0\\\\0\\\\1\\\\0\\\\0\\\\0\\\\0\\\\0\\\\0\\\\0\\end{matrix}\\right], \\  \\left[\\begin{matrix}1\\\\0\\\\0\\\\-1\\\\0\\\\0\\\\0\\\\0\\\\-1\\\\0\\\\0\\\\1\\\\0\\\\0\\\\0\\\\0\\\\0\\\\0\\end{matrix}\\right], \\  \\left[\\begin{matrix}0\\\\0\\\\1\\\\0\\\\0\\\\-1\\\\0\\\\0\\\\0\\\\0\\\\0\\\\0\\\\-1\\\\0\\\\0\\\\1\\\\0\\\\0\\end{matrix}\\right], \\  \\left[\\begin{matrix}-1\\\\0\\\\0\\\\1\\\\0\\\\0\\\\0\\\\0\\\\0\\\\0\\\\0\\\\0\\\\0\\\\-1\\\\0\\\\0\\\\1\\\\0\\end{matrix}\\right], \\  \\left[\\begin{matrix}0\\\\-1\\\\0\\\\0\\\\1\\\\0\\\\0\\\\0\\\\0\\\\0\\\\0\\\\0\\\\0\\\\0\\\\-1\\\\0\\\\0\\\\1\\end{matrix}\\right]\\right]\\right)$"
                  ],
                  "text/plain": [
                     "⎛      ⎡⎡0 ⎤  ⎡0 ⎤  ⎡1 ⎤  ⎡0 ⎤  ⎡-1⎤  ⎡0 ⎤⎤⎞\n",
                     "⎜      ⎢⎢  ⎥  ⎢  ⎥  ⎢  ⎥  ⎢  ⎥  ⎢  ⎥  ⎢  ⎥⎥⎟\n",
                     "⎜      ⎢⎢-1⎥  ⎢0 ⎥  ⎢0 ⎥  ⎢0 ⎥  ⎢0 ⎥  ⎢-1⎥⎥⎟\n",
                     "⎜      ⎢⎢  ⎥  ⎢  ⎥  ⎢  ⎥  ⎢  ⎥  ⎢  ⎥  ⎢  ⎥⎥⎟\n",
                     "⎜      ⎢⎢0 ⎥  ⎢-1⎥  ⎢0 ⎥  ⎢1 ⎥  ⎢0 ⎥  ⎢0 ⎥⎥⎟\n",
                     "⎜      ⎢⎢  ⎥  ⎢  ⎥  ⎢  ⎥  ⎢  ⎥  ⎢  ⎥  ⎢  ⎥⎥⎟\n",
                     "⎜      ⎢⎢0 ⎥  ⎢0 ⎥  ⎢-1⎥  ⎢0 ⎥  ⎢1 ⎥  ⎢0 ⎥⎥⎟\n",
                     "⎜      ⎢⎢  ⎥  ⎢  ⎥  ⎢  ⎥  ⎢  ⎥  ⎢  ⎥  ⎢  ⎥⎥⎟\n",
                     "⎜      ⎢⎢1 ⎥  ⎢0 ⎥  ⎢0 ⎥  ⎢0 ⎥  ⎢0 ⎥  ⎢1 ⎥⎥⎟\n",
                     "⎜      ⎢⎢  ⎥  ⎢  ⎥  ⎢  ⎥  ⎢  ⎥  ⎢  ⎥  ⎢  ⎥⎥⎟\n",
                     "⎜      ⎢⎢0 ⎥  ⎢1 ⎥  ⎢0 ⎥  ⎢-1⎥  ⎢0 ⎥  ⎢0 ⎥⎥⎟\n",
                     "⎜      ⎢⎢  ⎥  ⎢  ⎥  ⎢  ⎥  ⎢  ⎥  ⎢  ⎥  ⎢  ⎥⎥⎟\n",
                     "⎜      ⎢⎢-1⎥  ⎢0 ⎥  ⎢0 ⎥  ⎢0 ⎥  ⎢0 ⎥  ⎢0 ⎥⎥⎟\n",
                     "⎜      ⎢⎢  ⎥  ⎢  ⎥  ⎢  ⎥  ⎢  ⎥  ⎢  ⎥  ⎢  ⎥⎥⎟\n",
                     "⎜      ⎢⎢0 ⎥  ⎢-1⎥  ⎢0 ⎥  ⎢0 ⎥  ⎢0 ⎥  ⎢0 ⎥⎥⎟\n",
                     "⎜      ⎢⎢  ⎥  ⎢  ⎥  ⎢  ⎥  ⎢  ⎥  ⎢  ⎥  ⎢  ⎥⎥⎟\n",
                     "⎜      ⎢⎢0 ⎥  ⎢0 ⎥  ⎢-1⎥  ⎢0 ⎥  ⎢0 ⎥  ⎢0 ⎥⎥⎟\n",
                     "⎜1, 6, ⎢⎢  ⎥, ⎢  ⎥, ⎢  ⎥, ⎢  ⎥, ⎢  ⎥, ⎢  ⎥⎥⎟\n",
                     "⎜      ⎢⎢1 ⎥  ⎢0 ⎥  ⎢0 ⎥  ⎢0 ⎥  ⎢0 ⎥  ⎢0 ⎥⎥⎟\n",
                     "⎜      ⎢⎢  ⎥  ⎢  ⎥  ⎢  ⎥  ⎢  ⎥  ⎢  ⎥  ⎢  ⎥⎥⎟\n",
                     "⎜      ⎢⎢0 ⎥  ⎢1 ⎥  ⎢0 ⎥  ⎢0 ⎥  ⎢0 ⎥  ⎢0 ⎥⎥⎟\n",
                     "⎜      ⎢⎢  ⎥  ⎢  ⎥  ⎢  ⎥  ⎢  ⎥  ⎢  ⎥  ⎢  ⎥⎥⎟\n",
                     "⎜      ⎢⎢0 ⎥  ⎢0 ⎥  ⎢1 ⎥  ⎢0 ⎥  ⎢0 ⎥  ⎢0 ⎥⎥⎟\n",
                     "⎜      ⎢⎢  ⎥  ⎢  ⎥  ⎢  ⎥  ⎢  ⎥  ⎢  ⎥  ⎢  ⎥⎥⎟\n",
                     "⎜      ⎢⎢0 ⎥  ⎢0 ⎥  ⎢0 ⎥  ⎢-1⎥  ⎢0 ⎥  ⎢0 ⎥⎥⎟\n",
                     "⎜      ⎢⎢  ⎥  ⎢  ⎥  ⎢  ⎥  ⎢  ⎥  ⎢  ⎥  ⎢  ⎥⎥⎟\n",
                     "⎜      ⎢⎢0 ⎥  ⎢0 ⎥  ⎢0 ⎥  ⎢0 ⎥  ⎢-1⎥  ⎢0 ⎥⎥⎟\n",
                     "⎜      ⎢⎢  ⎥  ⎢  ⎥  ⎢  ⎥  ⎢  ⎥  ⎢  ⎥  ⎢  ⎥⎥⎟\n",
                     "⎜      ⎢⎢0 ⎥  ⎢0 ⎥  ⎢0 ⎥  ⎢0 ⎥  ⎢0 ⎥  ⎢-1⎥⎥⎟\n",
                     "⎜      ⎢⎢  ⎥  ⎢  ⎥  ⎢  ⎥  ⎢  ⎥  ⎢  ⎥  ⎢  ⎥⎥⎟\n",
                     "⎜      ⎢⎢0 ⎥  ⎢0 ⎥  ⎢0 ⎥  ⎢1 ⎥  ⎢0 ⎥  ⎢0 ⎥⎥⎟\n",
                     "⎜      ⎢⎢  ⎥  ⎢  ⎥  ⎢  ⎥  ⎢  ⎥  ⎢  ⎥  ⎢  ⎥⎥⎟\n",
                     "⎜      ⎢⎢0 ⎥  ⎢0 ⎥  ⎢0 ⎥  ⎢0 ⎥  ⎢1 ⎥  ⎢0 ⎥⎥⎟\n",
                     "⎜      ⎢⎢  ⎥  ⎢  ⎥  ⎢  ⎥  ⎢  ⎥  ⎢  ⎥  ⎢  ⎥⎥⎟\n",
                     "⎝      ⎣⎣0 ⎦  ⎣0 ⎦  ⎣0 ⎦  ⎣0 ⎦  ⎣0 ⎦  ⎣1 ⎦⎦⎠"
                  ]
               },
               "metadata": {},
               "output_type": "display_data"
            },
            {
               "data": {
                  "text/plain": [
                     "'indecesPlus = [4, 9]'"
                  ]
               },
               "metadata": {},
               "output_type": "display_data"
            },
            {
               "data": {
                  "text/plain": [
                     "'indecesMinus = [1, 6]'"
                  ]
               },
               "metadata": {},
               "output_type": "display_data"
            },
            {
               "data": {
                  "text/plain": [
                     "'indecesPlus = [5, 10]'"
                  ]
               },
               "metadata": {},
               "output_type": "display_data"
            },
            {
               "data": {
                  "text/plain": [
                     "'indecesMinus = [2, 7]'"
                  ]
               },
               "metadata": {},
               "output_type": "display_data"
            },
            {
               "data": {
                  "text/plain": [
                     "'indecesPlus = [0, 11]'"
                  ]
               },
               "metadata": {},
               "output_type": "display_data"
            },
            {
               "data": {
                  "text/plain": [
                     "'indecesMinus = [3, 8]'"
                  ]
               },
               "metadata": {},
               "output_type": "display_data"
            },
            {
               "data": {
                  "text/plain": [
                     "'indecesPlus = [2, 15]'"
                  ]
               },
               "metadata": {},
               "output_type": "display_data"
            },
            {
               "data": {
                  "text/plain": [
                     "'indecesMinus = [5, 12]'"
                  ]
               },
               "metadata": {},
               "output_type": "display_data"
            },
            {
               "data": {
                  "text/plain": [
                     "'indecesPlus = [3, 16]'"
                  ]
               },
               "metadata": {},
               "output_type": "display_data"
            },
            {
               "data": {
                  "text/plain": [
                     "'indecesMinus = [0, 13]'"
                  ]
               },
               "metadata": {},
               "output_type": "display_data"
            },
            {
               "data": {
                  "text/plain": [
                     "'indecesPlus = [4, 17]'"
                  ]
               },
               "metadata": {},
               "output_type": "display_data"
            },
            {
               "data": {
                  "text/plain": [
                     "'indecesMinus = [1, 14]'"
                  ]
               },
               "metadata": {},
               "output_type": "display_data"
            },
            {
               "name": "stdout",
               "output_type": "stream",
               "text": [
                  "------------\n",
                  "\n",
                  "\n",
                  "P_E2\n",
                  "No matching eigenvalue\n"
               ]
            },
            {
               "data": {
                  "image/png": "[encoded data removed]",
                  "text/latex": [
                     "$\\displaystyle \\left( 1, \\  6, \\  \\left[ \\left[\\begin{matrix}0\\\\-1\\\\0\\\\0\\\\-1\\\\0\\\\1\\\\0\\\\0\\\\1\\\\0\\\\0\\\\0\\\\0\\\\0\\\\0\\\\0\\\\0\\end{matrix}\\right], \\  \\left[\\begin{matrix}0\\\\0\\\\-1\\\\0\\\\0\\\\-1\\\\0\\\\1\\\\0\\\\0\\\\1\\\\0\\\\0\\\\0\\\\0\\\\0\\\\0\\\\0\\end{matrix}\\right], \\  \\left[\\begin{matrix}-1\\\\0\\\\0\\\\-1\\\\0\\\\0\\\\0\\\\0\\\\1\\\\0\\\\0\\\\1\\\\0\\\\0\\\\0\\\\0\\\\0\\\\0\\end{matrix}\\right], \\  \\left[\\begin{matrix}0\\\\0\\\\-1\\\\0\\\\0\\\\-1\\\\0\\\\0\\\\0\\\\0\\\\0\\\\0\\\\1\\\\0\\\\0\\\\1\\\\0\\\\0\\end{matrix}\\right], \\  \\left[\\begin{matrix}-1\\\\0\\\\0\\\\-1\\\\0\\\\0\\\\0\\\\0\\\\0\\\\0\\\\0\\\\0\\\\0\\\\1\\\\0\\\\0\\\\1\\\\0\\end{matrix}\\right], \\  \\left[\\begin{matrix}0\\\\-1\\\\0\\\\0\\\\-1\\\\0\\\\0\\\\0\\\\0\\\\0\\\\0\\\\0\\\\0\\\\0\\\\1\\\\0\\\\0\\\\1\\end{matrix}\\right]\\right]\\right)$"
                  ],
                  "text/plain": [
                     "⎛      ⎡⎡0 ⎤  ⎡0 ⎤  ⎡-1⎤  ⎡0 ⎤  ⎡-1⎤  ⎡0 ⎤⎤⎞\n",
                     "⎜      ⎢⎢  ⎥  ⎢  ⎥  ⎢  ⎥  ⎢  ⎥  ⎢  ⎥  ⎢  ⎥⎥⎟\n",
                     "⎜      ⎢⎢-1⎥  ⎢0 ⎥  ⎢0 ⎥  ⎢0 ⎥  ⎢0 ⎥  ⎢-1⎥⎥⎟\n",
                     "⎜      ⎢⎢  ⎥  ⎢  ⎥  ⎢  ⎥  ⎢  ⎥  ⎢  ⎥  ⎢  ⎥⎥⎟\n",
                     "⎜      ⎢⎢0 ⎥  ⎢-1⎥  ⎢0 ⎥  ⎢-1⎥  ⎢0 ⎥  ⎢0 ⎥⎥⎟\n",
                     "⎜      ⎢⎢  ⎥  ⎢  ⎥  ⎢  ⎥  ⎢  ⎥  ⎢  ⎥  ⎢  ⎥⎥⎟\n",
                     "⎜      ⎢⎢0 ⎥  ⎢0 ⎥  ⎢-1⎥  ⎢0 ⎥  ⎢-1⎥  ⎢0 ⎥⎥⎟\n",
                     "⎜      ⎢⎢  ⎥  ⎢  ⎥  ⎢  ⎥  ⎢  ⎥  ⎢  ⎥  ⎢  ⎥⎥⎟\n",
                     "⎜      ⎢⎢-1⎥  ⎢0 ⎥  ⎢0 ⎥  ⎢0 ⎥  ⎢0 ⎥  ⎢-1⎥⎥⎟\n",
                     "⎜      ⎢⎢  ⎥  ⎢  ⎥  ⎢  ⎥  ⎢  ⎥  ⎢  ⎥  ⎢  ⎥⎥⎟\n",
                     "⎜      ⎢⎢0 ⎥  ⎢-1⎥  ⎢0 ⎥  ⎢-1⎥  ⎢0 ⎥  ⎢0 ⎥⎥⎟\n",
                     "⎜      ⎢⎢  ⎥  ⎢  ⎥  ⎢  ⎥  ⎢  ⎥  ⎢  ⎥  ⎢  ⎥⎥⎟\n",
                     "⎜      ⎢⎢1 ⎥  ⎢0 ⎥  ⎢0 ⎥  ⎢0 ⎥  ⎢0 ⎥  ⎢0 ⎥⎥⎟\n",
                     "⎜      ⎢⎢  ⎥  ⎢  ⎥  ⎢  ⎥  ⎢  ⎥  ⎢  ⎥  ⎢  ⎥⎥⎟\n",
                     "⎜      ⎢⎢0 ⎥  ⎢1 ⎥  ⎢0 ⎥  ⎢0 ⎥  ⎢0 ⎥  ⎢0 ⎥⎥⎟\n",
                     "⎜      ⎢⎢  ⎥  ⎢  ⎥  ⎢  ⎥  ⎢  ⎥  ⎢  ⎥  ⎢  ⎥⎥⎟\n",
                     "⎜      ⎢⎢0 ⎥  ⎢0 ⎥  ⎢1 ⎥  ⎢0 ⎥  ⎢0 ⎥  ⎢0 ⎥⎥⎟\n",
                     "⎜1, 6, ⎢⎢  ⎥, ⎢  ⎥, ⎢  ⎥, ⎢  ⎥, ⎢  ⎥, ⎢  ⎥⎥⎟\n",
                     "⎜      ⎢⎢1 ⎥  ⎢0 ⎥  ⎢0 ⎥  ⎢0 ⎥  ⎢0 ⎥  ⎢0 ⎥⎥⎟\n",
                     "⎜      ⎢⎢  ⎥  ⎢  ⎥  ⎢  ⎥  ⎢  ⎥  ⎢  ⎥  ⎢  ⎥⎥⎟\n",
                     "⎜      ⎢⎢0 ⎥  ⎢1 ⎥  ⎢0 ⎥  ⎢0 ⎥  ⎢0 ⎥  ⎢0 ⎥⎥⎟\n",
                     "⎜      ⎢⎢  ⎥  ⎢  ⎥  ⎢  ⎥  ⎢  ⎥  ⎢  ⎥  ⎢  ⎥⎥⎟\n",
                     "⎜      ⎢⎢0 ⎥  ⎢0 ⎥  ⎢1 ⎥  ⎢0 ⎥  ⎢0 ⎥  ⎢0 ⎥⎥⎟\n",
                     "⎜      ⎢⎢  ⎥  ⎢  ⎥  ⎢  ⎥  ⎢  ⎥  ⎢  ⎥  ⎢  ⎥⎥⎟\n",
                     "⎜      ⎢⎢0 ⎥  ⎢0 ⎥  ⎢0 ⎥  ⎢1 ⎥  ⎢0 ⎥  ⎢0 ⎥⎥⎟\n",
                     "⎜      ⎢⎢  ⎥  ⎢  ⎥  ⎢  ⎥  ⎢  ⎥  ⎢  ⎥  ⎢  ⎥⎥⎟\n",
                     "⎜      ⎢⎢0 ⎥  ⎢0 ⎥  ⎢0 ⎥  ⎢0 ⎥  ⎢1 ⎥  ⎢0 ⎥⎥⎟\n",
                     "⎜      ⎢⎢  ⎥  ⎢  ⎥  ⎢  ⎥  ⎢  ⎥  ⎢  ⎥  ⎢  ⎥⎥⎟\n",
                     "⎜      ⎢⎢0 ⎥  ⎢0 ⎥  ⎢0 ⎥  ⎢0 ⎥  ⎢0 ⎥  ⎢1 ⎥⎥⎟\n",
                     "⎜      ⎢⎢  ⎥  ⎢  ⎥  ⎢  ⎥  ⎢  ⎥  ⎢  ⎥  ⎢  ⎥⎥⎟\n",
                     "⎜      ⎢⎢0 ⎥  ⎢0 ⎥  ⎢0 ⎥  ⎢1 ⎥  ⎢0 ⎥  ⎢0 ⎥⎥⎟\n",
                     "⎜      ⎢⎢  ⎥  ⎢  ⎥  ⎢  ⎥  ⎢  ⎥  ⎢  ⎥  ⎢  ⎥⎥⎟\n",
                     "⎜      ⎢⎢0 ⎥  ⎢0 ⎥  ⎢0 ⎥  ⎢0 ⎥  ⎢1 ⎥  ⎢0 ⎥⎥⎟\n",
                     "⎜      ⎢⎢  ⎥  ⎢  ⎥  ⎢  ⎥  ⎢  ⎥  ⎢  ⎥  ⎢  ⎥⎥⎟\n",
                     "⎝      ⎣⎣0 ⎦  ⎣0 ⎦  ⎣0 ⎦  ⎣0 ⎦  ⎣0 ⎦  ⎣1 ⎦⎦⎠"
                  ]
               },
               "metadata": {},
               "output_type": "display_data"
            },
            {
               "data": {
                  "text/plain": [
                     "'indecesPlus = [6, 9]'"
                  ]
               },
               "metadata": {},
               "output_type": "display_data"
            },
            {
               "data": {
                  "text/plain": [
                     "'indecesMinus = [1, 4]'"
                  ]
               },
               "metadata": {},
               "output_type": "display_data"
            },
            {
               "data": {
                  "text/plain": [
                     "'indecesPlus = [7, 10]'"
                  ]
               },
               "metadata": {},
               "output_type": "display_data"
            },
            {
               "data": {
                  "text/plain": [
                     "'indecesMinus = [2, 5]'"
                  ]
               },
               "metadata": {},
               "output_type": "display_data"
            },
            {
               "data": {
                  "text/plain": [
                     "'indecesPlus = [8, 11]'"
                  ]
               },
               "metadata": {},
               "output_type": "display_data"
            },
            {
               "data": {
                  "text/plain": [
                     "'indecesMinus = [0, 3]'"
                  ]
               },
               "metadata": {},
               "output_type": "display_data"
            },
            {
               "data": {
                  "text/plain": [
                     "'indecesPlus = [12, 15]'"
                  ]
               },
               "metadata": {},
               "output_type": "display_data"
            },
            {
               "data": {
                  "text/plain": [
                     "'indecesMinus = [2, 5]'"
                  ]
               },
               "metadata": {},
               "output_type": "display_data"
            },
            {
               "data": {
                  "text/plain": [
                     "'indecesPlus = [13, 16]'"
                  ]
               },
               "metadata": {},
               "output_type": "display_data"
            },
            {
               "data": {
                  "text/plain": [
                     "'indecesMinus = [0, 3]'"
                  ]
               },
               "metadata": {},
               "output_type": "display_data"
            },
            {
               "data": {
                  "text/plain": [
                     "'indecesPlus = [14, 17]'"
                  ]
               },
               "metadata": {},
               "output_type": "display_data"
            },
            {
               "data": {
                  "text/plain": [
                     "'indecesMinus = [1, 4]'"
                  ]
               },
               "metadata": {},
               "output_type": "display_data"
            },
            {
               "name": "stdout",
               "output_type": "stream",
               "text": [
                  "------------\n",
                  "\n",
                  "\n",
                  "P_A1\n"
               ]
            },
            {
               "data": {
                  "image/png": "[encoded data removed]",
                  "text/latex": [
                     "$\\displaystyle 2.0$"
                  ],
                  "text/plain": [
                     "2.00000000000000"
                  ]
               },
               "metadata": {},
               "output_type": "display_data"
            },
            {
               "data": {
                  "text/plain": [
                     "True"
                  ]
               },
               "metadata": {},
               "output_type": "display_data"
            },
            {
               "name": "stdout",
               "output_type": "stream",
               "text": [
                  "P_A2\n"
               ]
            },
            {
               "data": {
                  "image/png": "[encoded data removed]",
                  "text/latex": [
                     "$\\displaystyle 1.0$"
                  ],
                  "text/plain": [
                     "1.00000000000000"
                  ]
               },
               "metadata": {},
               "output_type": "display_data"
            },
            {
               "data": {
                  "text/plain": [
                     "True"
                  ]
               },
               "metadata": {},
               "output_type": "display_data"
            },
            {
               "name": "stdout",
               "output_type": "stream",
               "text": [
                  "P_B1\n"
               ]
            },
            {
               "data": {
                  "image/png": "[encoded data removed]",
                  "text/latex": [
                     "$\\displaystyle 2.0$"
                  ],
                  "text/plain": [
                     "2.00000000000000"
                  ]
               },
               "metadata": {},
               "output_type": "display_data"
            },
            {
               "data": {
                  "text/plain": [
                     "True"
                  ]
               },
               "metadata": {},
               "output_type": "display_data"
            },
            {
               "name": "stdout",
               "output_type": "stream",
               "text": [
                  "P_B2\n"
               ]
            },
            {
               "data": {
                  "image/png": "[encoded data removed]",
                  "text/latex": [
                     "$\\displaystyle 1.0$"
                  ],
                  "text/plain": [
                     "1.00000000000000"
                  ]
               },
               "metadata": {},
               "output_type": "display_data"
            },
            {
               "data": {
                  "text/plain": [
                     "True"
                  ]
               },
               "metadata": {},
               "output_type": "display_data"
            },
            {
               "name": "stdout",
               "output_type": "stream",
               "text": [
                  "P_E1\n"
               ]
            },
            {
               "data": {
                  "image/png": "[encoded data removed]",
                  "text/latex": [
                     "$\\displaystyle 3.0$"
                  ],
                  "text/plain": [
                     "3.00000000000000"
                  ]
               },
               "metadata": {},
               "output_type": "display_data"
            },
            {
               "data": {
                  "text/plain": [
                     "True"
                  ]
               },
               "metadata": {},
               "output_type": "display_data"
            },
            {
               "name": "stdout",
               "output_type": "stream",
               "text": [
                  "P_E2\n"
               ]
            },
            {
               "data": {
                  "image/png": "[encoded data removed]",
                  "text/latex": [
                     "$\\displaystyle 3.0$"
                  ],
                  "text/plain": [
                     "3.00000000000000"
                  ]
               },
               "metadata": {},
               "output_type": "display_data"
            },
            {
               "data": {
                  "text/plain": [
                     "True"
                  ]
               },
               "metadata": {},
               "output_type": "display_data"
            }
         ],
         "source": [
            "c6_total = TensorProduct(c6_orb, c6)\n",
            "c6_inv_total = c6_total.inv()\n",
            "\n",
            "c3_total = TensorProduct(c3_orb, c3)\n",
            "c3_inv_total = c3_total.inv()\n",
            "\n",
            "c2_total = TensorProduct(c2_orb, c2)\n",
            "\n",
            "s_v1_total = TensorProduct(s_v1_orb, s_v1)\n",
            "s_v2_total = TensorProduct(s_v2_orb, s_v2)\n",
            "s_v3_total = TensorProduct(s_v3_orb, s_v3)\n",
            "\n",
            "s_d1_total = TensorProduct(s_d1_orb, s_d1)\n",
            "s_d2_total = TensorProduct(s_d2_orb, s_d2)\n",
            "s_d3_total = TensorProduct(s_d3_orb, s_d3)\n",
            "\n",
            "projections = []\n",
            "dim = 3 * 6\n",
            "e = sp.eye(dim)\n",
            "for i, proj in enumerate(projectionCallbacks):\n",
            "  projections.append(proj(chiTabC6v, e, c6_total, c6_inv_total, c3_total, c3_inv_total, c2_total, s_v1_total, s_v2_total, s_v3_total, s_d1_total, s_d2_total, s_d3_total))\n",
            "\n",
            "diagonalizeProjections(projections, names)\n",
            "# Sanity checks\n",
            "for i, proj in enumerate(projections):\n",
            "  print(f\"{names[i]}\")\n",
            "\n",
            "  # Multiplicity calcculated here should match the multiplicity of the eigenvalue == 1\n",
            "  mGamma = 1 / 12 * (chiTabC6v[i,0] * e.trace() +\n",
            "                     chiTabC6v[i,1] * (c6_total.trace() + c6_inv.trace()) +\n",
            "                     chiTabC6v[i,2] * (c3.trace() + c3_inv.trace()) +\n",
            "                     chiTabC6v[i,3] * c2.trace() +\n",
            "                     chiTabC6v[i,4] * (s_v1.trace() + s_v2.trace() + s_v3.trace()) +\n",
            "                     chiTabC6v[i,5] * (s_d1.trace() + s_d2.trace() + s_d3.trace()))\n",
            "  display(mGamma)\n",
            "  display(proj * proj - proj == sp.zeros(dim,dim)) # Should give 0 operator"
         ]
      },
      {
         "cell_type": "markdown",
         "metadata": {},
         "source": [
            "# Spin part"
         ]
      },
      {
         "cell_type": "code",
         "execution_count": 6,
         "metadata": {},
         "outputs": [],
         "source": [
            "# chiTabC6vDouble = sp.Matrix([\n",
            "#   [1, 1, 1, 1, 1, 1, 1, 1, 1, 1, 1, 1],        # A1\n",
            "#   [1, 1, 1, 1, 1, 1, -1, -1, 1, 1, 1, 1],      # A2\n",
            "#   [1, -1, -1, 1, 1, -1, 1, -1, 1, -1, -1, 1],  # B1\n",
            "#   [1, -1, -1, 1, 1, -1, -1, 1, 1, -1, -1, 1],  # B2\n",
            "#   [2, 1, 1, -1, -1, -2, 0, 0, 2, 1, 1, -1],    # E1\n",
            "#   [2, -1, -1, -1, -1, 2, 0, 0, 2, -1, -1, -1], # E2\n",
            "#   [2, sp.sqrt(3), -sp.sqrt(3), -1, 1, 0, 0, 0, -2, -sp.sqrt(3), sp.sqrt(3), 1],  # E_{1/2}\n",
            "#   [2, -sp.sqrt(3), sp.sqrt(3), -1, 1, 0, 0, 0, -2, sp.sqrt(3), -sp.sqrt(3), 1]   # E_{3/2}\n",
            "# ])\n",
            "\n",
            "# # Double-group projections\n",
            "# def project_A1_double(chiTab, e, c6, c6_inv, c3, c3_inv, c2, s_v1, s_v2, s_v3, s_d1, s_d2, s_d3):\n",
            "#   g = sum(dGamma**2 for dGamma in chiTab.col(0))\n",
            "#   dGamma = chiTab[0,0]\n",
            "#   return dGamma / g * (chiTab[0,0] * e +\n",
            "#                        chiTab[0,1] * c6 +\n",
            "#                        chiTab[0,2] * c6_inv +\n",
            "#                        chiTab[0,3] * c3 +\n",
            "#                        chiTab[0,4] * c3_inv +\n",
            "#                        chiTab[0,5] * c2 +\n",
            "#                        chiTab[0,6] * (s_v1 + s_v2 + s_v3) +\n",
            "#                        chiTab[0,7] * (s_d1 + s_d2 + s_d3) -\n",
            "#                        chiTab[0,8] * e -\n",
            "#                        chiTab[0,9] * c6 -\n",
            "#                        chiTab[0,10] * c6_inv -\n",
            "#                        chiTab[0,11] * c3)\n",
            "\n",
            "# def project_A2_double(chiTab, e, c6, c6_inv, c3, c3_inv, c2, s_v1, s_v2, s_v3, s_d1, s_d2, s_d3):\n",
            "#   g = sum(dGamma**2 for dGamma in chiTab.col(0))\n",
            "#   dGamma = chiTab[1,0]\n",
            "#   return dGamma / g * (chiTab[1,0] * e +\n",
            "#                        chiTab[1,1] * c6 +\n",
            "#                        chiTab[1,2] * c6_inv +\n",
            "#                        chiTab[1,3] * c3 +\n",
            "#                        chiTab[1,4] * c3_inv +\n",
            "#                        chiTab[1,5] * c2 +\n",
            "#                        chiTab[1,6] * (s_v1 + s_v2 + s_v3) +\n",
            "#                        chiTab[1,7] * (s_d1 + s_d2 + s_d3) -\n",
            "#                        chiTab[1,8] * e -\n",
            "#                        chiTab[1,9] * c6 -\n",
            "#                        chiTab[1,10] * c6_inv -\n",
            "#                        chiTab[1,11] * c3)\n",
            "\n",
            "# def project_B1_double(chiTab, e, c6, c6_inv, c3, c3_inv, c2, s_v1, s_v2, s_v3, s_d1, s_d2, s_d3):\n",
            "#   g = sum(dGamma**2 for dGamma in chiTab.col(0))\n",
            "#   dGamma = chiTab[2,0]\n",
            "#   return dGamma / g * (chiTab[2,0] * e +\n",
            "#                        chiTab[2,1] * c6 +\n",
            "#                        chiTab[2,2] * c6_inv +\n",
            "#                        chiTab[2,3] * c3 +\n",
            "#                        chiTab[2,4] * c3_inv +\n",
            "#                        chiTab[2,5] * c2 +\n",
            "#                        chiTab[2,6] * (s_v1 + s_v2 + s_v3) +\n",
            "#                        chiTab[2,7] * (s_d1 + s_d2 + s_d3) -\n",
            "#                        chiTab[2,8] * e -\n",
            "#                        chiTab[2,9] * c6 -\n",
            "#                        chiTab[2,10] * c6_inv -\n",
            "#                        chiTab[2,11] * c3)\n",
            "\n",
            "# def project_B2_double(chiTab, e, c6, c6_inv, c3, c3_inv, c2, s_v1, s_v2, s_v3, s_d1, s_d2, s_d3):\n",
            "#   g = sum(dGamma**2 for dGamma in chiTab.col(0))\n",
            "#   dGamma = chiTab[3,0]\n",
            "#   return dGamma / g * (chiTab[3,0] * e +\n",
            "#                        chiTab[3,1] * c6 +\n",
            "#                        chiTab[3,2] * c6_inv +\n",
            "#                        chiTab[3,3] * c3 +\n",
            "#                        chiTab[3,4] * c3_inv +\n",
            "#                        chiTab[3,5] * c2 +\n",
            "#                        chiTab[3,6] * (s_v1 + s_v2 + s_v3) +\n",
            "#                        chiTab[3,7] * (s_d1 + s_d2 + s_d3) -\n",
            "#                        chiTab[3,8] * e -\n",
            "#                        chiTab[3,9] * c6 -\n",
            "#                        chiTab[3,10] * c6_inv -\n",
            "#                        chiTab[3,11] * c3)\n",
            "\n",
            "# def project_E1_double(chiTab, e, c6, c6_inv, c3, c3_inv, c2, s_v1, s_v2, s_v3, s_d1, s_d2, s_d3):\n",
            "#   g = sum(dGamma**2 for dGamma in chiTab.col(0))\n",
            "#   dGamma = chiTab[4,0]\n",
            "#   return dGamma / g * (chiTab[4,0] * e +\n",
            "#                        chiTab[4,1] * c6 +\n",
            "#                        chiTab[4,2] * c6_inv +\n",
            "#                        chiTab[4,3] * c3 +\n",
            "#                        chiTab[4,4] * c3_inv +\n",
            "#                        chiTab[4,5] * c2 +\n",
            "#                        chiTab[4,6] * (s_v1 + s_v2 + s_v3) +\n",
            "#                        chiTab[4,7] * (s_d1 + s_d2 + s_d3) -\n",
            "#                        chiTab[4,8] * e -\n",
            "#                        chiTab[4,9] * c6 -\n",
            "#                        chiTab[4,10] * c6_inv -\n",
            "#                        chiTab[4,11] * c3)\n",
            "\n",
            "# def project_E2_double(chiTab, e, c6, c6_inv, c3, c3_inv, c2, s_v1, s_v2, s_v3, s_d1, s_d2, s_d3):\n",
            "#   g = sum(dGamma**2 for dGamma in chiTab.col(0))\n",
            "#   dGamma = chiTab[5,0]\n",
            "#   return dGamma / g * (chiTab[5,0] * e +\n",
            "#                        chiTab[5,1] * c6 +\n",
            "#                        chiTab[5,2] * c6_inv +\n",
            "#                        chiTab[5,3] * c3 +\n",
            "#                        chiTab[5,4] * c3_inv +\n",
            "#                        chiTab[5,5] * c2 +\n",
            "#                        chiTab[5,6] * (s_v1 + s_v2 + s_v3) +\n",
            "#                        chiTab[5,7] * (s_d1 + s_d2 + s_d3) -\n",
            "#                        chiTab[5,8] * e -\n",
            "#                        chiTab[5,9] * c6 -\n",
            "#                        chiTab[5,10] * c6_inv -\n",
            "#                        chiTab[5,11] * c3)\n",
            "\n",
            "# def project_E1_2_double(chiTab, e, c6, c6_inv, c3, c3_inv, c2, s_v1, s_v2, s_v3, s_d1, s_d2, s_d3):\n",
            "#   g = sum(dGamma**2 for dGamma in chiTab.col(0))\n",
            "#   dGamma = chiTab[6,0]\n",
            "#   return dGamma / g * (chiTab[6,0] * e +\n",
            "#                        chiTab[6,1] * c6 +\n",
            "#                        chiTab[6,2] * c6_inv +\n",
            "#                        chiTab[6,3] * c3 +\n",
            "#                        chiTab[6,4] * c3_inv +\n",
            "#                        chiTab[6,5] * c2 +\n",
            "#                        chiTab[6,6] * (s_v1 + s_v2 + s_v3) +\n",
            "#                        chiTab[6,7] * (s_d1 + s_d2 + s_d3) -\n",
            "#                        chiTab[6,8] * e -\n",
            "#                        chiTab[6,9] * c6 -\n",
            "#                        chiTab[6,10] * c6_inv -\n",
            "#                        chiTab[6,11] * c3)\n",
            "\n",
            "# def project_E3_2_double(chiTab, e, c6, c6_inv, c3, c3_inv, c2, s_v1, s_v2, s_v3, s_d1, s_d2, s_d3):\n",
            "#   g = sum(dGamma**2 for dGamma in chiTab.col(0))\n",
            "#   dGamma = chiTab[7,0]\n",
            "#   return dGamma / g * (chiTab[7,0] * e +\n",
            "#                        chiTab[7,1] * c6 +\n",
            "#                        chiTab[7,2] * c6_inv +\n",
            "#                        chiTab[7,3] * c3 +\n",
            "#                        chiTab[7,4] * c3_inv +\n",
            "#                        chiTab[7,5] * c2 +\n",
            "#                        chiTab[7,6] * (s_v1 + s_v2 + s_v3) +\n",
            "#                        chiTab[7,7] * (s_d1 + s_d2 + s_d3) -\n",
            "#                        chiTab[7,8] * e -\n",
            "#                        chiTab[7,9] * c6 -\n",
            "#                        chiTab[7,10] * c6_inv -\n",
            "#                        chiTab[7,11] * c3)\n",
            "\n",
            "# projectionCallbacksDouble = [project_A1_double, project_A2_double, project_B1_double, project_B2_double, project_E1_double, project_E2_double, project_E1_2_double, project_E3_2_double]\n",
            "# namesDouble = [\"P_A1\", \"P_A2\", \"P_B1\", \"P_B2\", \"P_E1\", \"P_E2\", \"P_E1_2\", \"P_E3_2\"]\n",
            "\n",
            "\n",
            "# #Define Pauli Matrices\n",
            "# s0 = sp.Matrix([[1, 0], [0, 1]])\n",
            "# sx = sp.Matrix([[0, 1], [1, 0]])\n",
            "# sy = sp.Matrix([[0, -sp.I], [sp.I, 0]])\n",
            "# sz = sp.Matrix([[1, 0], [0, -1]])\n",
            "\n",
            "# def Rz_spin(theta):\n",
            "#   return sp.cos(theta/2)*s0 - sp.I * sp.sin(theta/2)*sz\n",
            "\n",
            "# def Rz_real(theta):\n",
            "#   return sp.Matrix([[sp.cos(theta), -sp.sin(theta), 0], [sp.sin(theta), sp.cos(theta), 0], [0, 0, 1]])\n",
            "\n",
            "\n",
            "# # Calculating vectors normal to reflection planes\n",
            "# nv1 = sp.Matrix([0,1,0])\n",
            "# nd1 = Rz_real(sp.pi/6) * nv1\n",
            "\n",
            "# #Generators\n",
            "# c6_spin = Rz_spin(sp.pi/3)\n",
            "# #In the following there could be a minus sign, but this is only convention?\n",
            "# s_v1_spin = sp.I * ( nv1[0] * sx + nv1[1] * sy + nv1[2] * sz)\n",
            "# s_d1_spin = sp.I * ( nd1[0] * sx + nd1[1] * sy + nd1[2] * sz)\n",
            "\n",
            "# #Derived from generators\n",
            "# c6_inv_spin = sp.simplify(c6_spin.inv())\n",
            "\n",
            "# c3_spin = sp.simplify(c6_spin**2)\n",
            "# c3_inv_spin = sp.simplify(c3_spin.inv())\n",
            "\n",
            "# c2_spin = sp.simplify(c6_spin**3)\n",
            "\n",
            "# s_v2_spin = sp.simplify( c6_inv_spin * s_v1_spin * c6_spin )\n",
            "# s_v3_spin = sp.simplify( c3_inv_spin * s_v1_spin * c3_spin )\n",
            "\n",
            "# s_d2_spin = sp.simplify( c6_inv_spin * s_d1_spin * c6_spin )\n",
            "# s_d3_spin = sp.simplify( c3_inv_spin * s_d1_spin * c3_spin )\n",
            "\n",
            "\n",
            "# projections = []\n",
            "# dim = 2\n",
            "# e = sp.eye(dim)\n",
            "# for i, proj in enumerate(projectionCallbacksDouble):\n",
            "#   projections.append(proj(chiTabC6vDouble, e, c6_spin, c6_inv_spin, c3_spin, c3_inv_spin, c2_spin, s_v1_spin, s_v2_spin, s_v3_spin, s_d1_spin, s_d2_spin, s_d3_spin))\n",
            "\n",
            "# #diagonalizeProjections(projections, namesDouble)\n",
            "# for i, proj in enumerate(projections):\n",
            "#   print(f\"{namesDouble[i]}\")\n",
            "#   display(proj * proj - proj) # Should give 0 operator\n",
            "#   display(proj.trace())\n"
         ]
      },
      {
         "cell_type": "code",
         "execution_count": null,
         "metadata": {},
         "outputs": [],
         "source": []
      },
      {
         "cell_type": "code",
         "execution_count": null,
         "metadata": {},
         "outputs": [],
         "source": []
      },
      {
         "cell_type": "code",
         "execution_count": null,
         "metadata": {},
         "outputs": [],
         "source": []
      }
   ],
   "metadata": {
      "kernelspec": {
         "display_name": "base",
         "language": "python",
         "name": "python3"
      },
      "language_info": {
         "codemirror_mode": {
            "name": "ipython",
            "version": 3
         },
         "file_extension": ".py",
         "mimetype": "text/x-python",
         "name": "python",
         "nbconvert_exporter": "python",
         "pygments_lexer": "ipython3",
         "version": "3.11.8"
      }
   },
   "nbformat": 4,
   "nbformat_minor": 2
}
