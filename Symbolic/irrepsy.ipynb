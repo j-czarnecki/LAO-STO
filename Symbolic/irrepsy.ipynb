{
 "cells": [
  {
   "cell_type": "code",
   "execution_count": 22,
   "metadata": {},
   "outputs": [],
   "source": [
    "import numpy as np\n"
   ]
  },
  {
   "cell_type": "code",
   "execution_count": 23,
   "metadata": {},
   "outputs": [
    {
     "name": "stdout",
     "output_type": "stream",
     "text": [
      "e = \n",
      "[[1. 0. 0. 0.]\n",
      " [0. 1. 0. 0.]\n",
      " [0. 0. 1. 0.]\n",
      " [0. 0. 0. 1.]]\n",
      "c4 = \n",
      "[[0. 1. 0. 0.]\n",
      " [0. 0. 1. 0.]\n",
      " [0. 0. 0. 1.]\n",
      " [1. 0. 0. 0.]]\n",
      "c4_inv = \n",
      "[[0. 0. 0. 1.]\n",
      " [1. 0. 0. 0.]\n",
      " [0. 1. 0. 0.]\n",
      " [0. 0. 1. 0.]]\n",
      "c2 = \n",
      "[[0. 0. 1. 0.]\n",
      " [0. 0. 0. 1.]\n",
      " [1. 0. 0. 0.]\n",
      " [0. 1. 0. 0.]]\n",
      "sx = \n",
      "[[0. 0. 1. 0.]\n",
      " [0. 1. 0. 0.]\n",
      " [1. 0. 0. 0.]\n",
      " [0. 0. 0. 1.]]\n",
      "sy = \n",
      "[[1. 0. 0. 0.]\n",
      " [0. 0. 0. 1.]\n",
      " [0. 0. 1. 0.]\n",
      " [0. 1. 0. 0.]]\n",
      "sd = \n",
      "[[0. 1. 0. 0.]\n",
      " [1. 0. 0. 0.]\n",
      " [0. 0. 0. 1.]\n",
      " [0. 0. 1. 0.]]\n",
      "sd_prime = \n",
      "[[0. 0. 0. 1.]\n",
      " [0. 0. 1. 0.]\n",
      " [0. 1. 0. 0.]\n",
      " [1. 0. 0. 0.]]\n"
     ]
    }
   ],
   "source": [
    "N = 4\n",
    "e = np.identity(N)\n",
    "print(f\"e = \\n{e}\")\n",
    "\n",
    "#C4\n",
    "c4 = np.array([[0, 1, 0, 0], [0,0,1,0], [0,0,0,1], [1,0,0,0]], dtype=float)\n",
    "print(f\"c4 = \\n{c4}\")\n",
    "c4_inv = np.linalg.inv(c4)\n",
    "print(f\"c4_inv = \\n{c4_inv}\")\n",
    "\n",
    "#C2\n",
    "c2 = np.array([[0, 0, 1, 0], [0,0,0,1], [1,0,0,0], [0,1,0,0]], dtype=float)\n",
    "print(f\"c2 = \\n{c2}\")\n",
    "\n",
    "#sigma reflections\n",
    "sx = np.array([[0, 0, 1, 0], [0,1,0,0], [1,0,0,0], [0,0,0,1]], dtype=float)\n",
    "sy = np.array([[1, 0, 0, 0], [0,0,0,1], [0,0,1,0], [0,1,0,0]], dtype=float)\n",
    "print(f\"sx = \\n{sx}\")\n",
    "print(f\"sy = \\n{sy}\")\n",
    "\n",
    "sd = np.array([[0, 1, 0, 0], [1,0,0,0], [0,0,0,1], [0,0,1,0]], dtype=float)\n",
    "sd_prime = np.array([[0, 0, 0, 1], [0,0,1,0], [0,1,0,0], [1,0,0,0]], dtype=float)\n",
    "print(f\"sd = \\n{sd}\")\n",
    "print(f\"sd_prime = \\n{sd_prime}\")"
   ]
  },
  {
   "cell_type": "code",
   "execution_count": 24,
   "metadata": {},
   "outputs": [
    {
     "name": "stdout",
     "output_type": "stream",
     "text": [
      "P_A1 = \n",
      "[[0.25 0.25 0.25 0.25]\n",
      " [0.25 0.25 0.25 0.25]\n",
      " [0.25 0.25 0.25 0.25]\n",
      " [0.25 0.25 0.25 0.25]]\n",
      "P_A2 = \n",
      "[[0. 0. 0. 0.]\n",
      " [0. 0. 0. 0.]\n",
      " [0. 0. 0. 0.]\n",
      " [0. 0. 0. 0.]]\n",
      "P_B1 = \n",
      "[[ 0.25 -0.25  0.25 -0.25]\n",
      " [-0.25  0.25 -0.25  0.25]\n",
      " [ 0.25 -0.25  0.25 -0.25]\n",
      " [-0.25  0.25 -0.25  0.25]]\n",
      "P_B2 = \n",
      "[[0. 0. 0. 0.]\n",
      " [0. 0. 0. 0.]\n",
      " [0. 0. 0. 0.]\n",
      " [0. 0. 0. 0.]]\n",
      "P_E = \n",
      "[[ 0.5  0.  -0.5  0. ]\n",
      " [ 0.   0.5  0.  -0.5]\n",
      " [-0.5  0.   0.5  0. ]\n",
      " [ 0.  -0.5  0.   0.5]]\n"
     ]
    }
   ],
   "source": [
    "P_A1 = 1/8 * (e + c4 + c4_inv + c2 + sx + sy + sd + sd_prime)\n",
    "print(f\"P_A1 = \\n{P_A1}\")\n",
    "P_A2 = 1/8 * (e + c4 + c4_inv + c2 - sx - sy - sd - sd_prime)\n",
    "print(f\"P_A2 = \\n{P_A2}\")\n",
    "P_B1 = 1/8 * (e - c4 - c4_inv + c2 + sx + sy - sd - sd_prime)\n",
    "print(f\"P_B1 = \\n{P_B1}\")\n",
    "P_B2 = 1/8 * (e - c4 - c4_inv + c2 - sx - sy + sd + sd_prime)\n",
    "print(f\"P_B2 = \\n{P_B2}\")\n",
    "P_E = 2/8 * (2*e - 2*c2)\n",
    "print(f\"P_E = \\n{P_E}\")"
   ]
  },
  {
   "cell_type": "code",
   "execution_count": 25,
   "metadata": {},
   "outputs": [
    {
     "name": "stdout",
     "output_type": "stream",
     "text": [
      "A1\n",
      "eval = \n",
      "[ 0.00000000e+00  1.00000000e+00 -4.79501157e-35  0.00000000e+00]\n",
      "evecs = \n",
      "[[-0.8660254   0.5         0.86517865  0.8660254 ]\n",
      " [ 0.28867513  0.5        -0.25229548 -0.28867513]\n",
      " [ 0.28867513  0.5        -0.30644159 -0.28867513]\n",
      " [ 0.28867513  0.5        -0.30644159 -0.28867513]]\n",
      "A2\n",
      "eval = \n",
      "[ 0.00000000e+00  1.00000000e+00 -4.79501157e-35  0.00000000e+00]\n",
      "evecs = \n",
      "[[1. 0. 0. 0.]\n",
      " [0. 1. 0. 0.]\n",
      " [0. 0. 1. 0.]\n",
      " [0. 0. 0. 1.]]\n",
      "B1\n",
      "eval = \n",
      "[ 0.00000000e+00  1.00000000e+00 -4.79501157e-35  0.00000000e+00]\n",
      "evecs = \n",
      "[[-0.8660254  -0.5        -0.8660254  -0.8647342 ]\n",
      " [-0.28867513  0.5        -0.28867513 -0.24367506]\n",
      " [ 0.28867513 -0.5         0.28867513  0.31052957]\n",
      " [-0.28867513  0.5        -0.28867513 -0.31052957]]\n",
      "B2\n",
      "eval = \n",
      "[ 0.00000000e+00  1.00000000e+00 -4.79501157e-35  0.00000000e+00]\n",
      "evecs = \n",
      "[[1. 0. 0. 0.]\n",
      " [0. 1. 0. 0.]\n",
      " [0. 0. 1. 0.]\n",
      " [0. 0. 0. 1.]]\n",
      "E\n",
      "eval = \n",
      "[1.00000000e+00 1.11022302e-16 1.00000000e+00 1.11022302e-16]\n",
      "evecs = \n",
      "[[ 0.70710678  0.70710678  0.          0.        ]\n",
      " [ 0.          0.          0.70710678  0.70710678]\n",
      " [-0.70710678  0.70710678  0.          0.        ]\n",
      " [ 0.          0.         -0.70710678  0.70710678]]\n"
     ]
    }
   ],
   "source": [
    "eval, evecs = np.linalg.eig(P_A1)\n",
    "print(\"A1\")\n",
    "print(f\"eval = \\n{eval}\")\n",
    "print(f\"evecs = \\n{evecs}\")\n",
    "evals, evecs = np.linalg.eig(P_A2)\n",
    "print(\"A2\")\n",
    "print(f\"eval = \\n{eval}\")\n",
    "print(f\"evecs = \\n{evecs}\")\n",
    "evals, evecs = np.linalg.eig(P_B1)\n",
    "print(\"B1\")\n",
    "print(f\"eval = \\n{eval}\")\n",
    "print(f\"evecs = \\n{evecs}\")\n",
    "evals, evecs = np.linalg.eig(P_B2)\n",
    "print(\"B2\")\n",
    "print(f\"eval = \\n{eval}\")\n",
    "print(f\"evecs = \\n{evecs}\")\n",
    "evals, evecs = np.linalg.eig(P_E)\n",
    "print(\"E\")\n",
    "print(f\"eval = \\n{evals}\")\n",
    "print(f\"evecs = \\n{evecs}\")"
   ]
  },
  {
   "cell_type": "code",
   "execution_count": null,
   "metadata": {},
   "outputs": [],
   "source": []
  }
 ],
 "metadata": {
  "kernelspec": {
   "display_name": "base",
   "language": "python",
   "name": "python3"
  },
  "language_info": {
   "codemirror_mode": {
    "name": "ipython",
    "version": 3
   },
   "file_extension": ".py",
   "mimetype": "text/x-python",
   "name": "python",
   "nbconvert_exporter": "python",
   "pygments_lexer": "ipython3",
   "version": "3.11.9"
  }
 },
 "nbformat": 4,
 "nbformat_minor": 2
}
